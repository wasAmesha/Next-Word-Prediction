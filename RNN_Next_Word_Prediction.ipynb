{
  "nbformat": 4,
  "nbformat_minor": 0,
  "metadata": {
    "colab": {
      "provenance": []
    },
    "kernelspec": {
      "name": "python3",
      "display_name": "Python 3"
    },
    "language_info": {
      "name": "python"
    }
  },
  "cells": [
    {
      "cell_type": "code",
      "execution_count": null,
      "metadata": {
        "id": "JTOWFuAUsWFj"
      },
      "outputs": [],
      "source": [
        "import numpy as np\n",
        "import tensorflow as tf"
      ]
    },
    {
      "cell_type": "code",
      "source": [
        "with open(\"/content/cricket.txt\",'r',encoding='utf-8') as file:       # load the dataset\n",
        "  cricket_history = file.read()                                       # read the dataset"
      ],
      "metadata": {
        "id": "zHLVBxEnsfOV"
      },
      "execution_count": null,
      "outputs": []
    },
    {
      "cell_type": "code",
      "source": [
        "cricket_history               # display the dataset"
      ],
      "metadata": {
        "id": "fYkJxW9msfK7",
        "colab": {
          "base_uri": "https://localhost:8080/",
          "height": 235
        },
        "outputId": "db2f638d-f95b-44d6-9bc7-cc842bad5162"
      },
      "execution_count": null,
      "outputs": [
        {
          "output_type": "execute_result",
          "data": {
            "text/plain": [
              "'Cricket history is particularly murky and vague as to the exact origins of the game, it is believed to have been born in England in the late middle ages.\\n\\nEdward III banned a game similar to cricket in 1369, ‘pila baculorea’ or ‘club ball’ as it was known, as he saw it as being a distraction to his war effort.\\n\\nDerek Birley in his wonderful book, ‘A Social History of English Cricket’ suggests the game came to England with the French during the time of the Norman Invasion, that their word ‘criquet’ was the dialect name for a variation of club ball, the game Edward the III had sought to eradicate.\\n\\nThere is record of the word ‘creag’ as a derivative of the word creaget in 1299-1300 in the Royal Wardrobe Accounts, for the then Prince Edward the II to play ‘creag’ and other games.\\n\\nThere is no evidence that creag was the same as criquet, the links are too tenuous and games rarely appear in any records of this time unless the aristocracy were playing them or trying to have them eradicated as being morally degenerate.\\n\\nCricket is first recorded as a game played by schoolboys in Guildford in the sixteenth century and is found recorded in an Italian -English dictionary in 1598.\\n\\nGambling, the Aristocracy and Working Classes\\nThe game by 1611 was being played by adults, it is recorded that two men were prosecuted for playing cricket instead of attending church.\\n\\nOn a similar theme, in 1628 ten men were fined for playing cricket rather than attending church service, they also had to make a confession to the congregation as way of penance.\\n\\nAs the game continued to evolve amongst the working classes and the aristocracy, gambling became central to its growth.\\n\\nThe aristocracy in particular, had seen in it, a game with the obvious attributes to bet on its outcomes. Teams were assembled under the patronage of Aristocrats and purses were put up for ‘great matches’.\\n\\nIn 1696, ‘ a great match at Cricket was played in Sussex, they were eleven of a side, and they played for fifty guineas apiece’.\\n\\nThe game had been growing both within the english upper classes and as a genuine recreational past time for rural workers in the southern counties of England.\\n\\nThe composite teams that were beginning to be assembled for ‘great matches’ during this period of the early 1700’s, were crossing the class divides; as the purses played for encouraged the nobility that were patronizing the teams, to employ the best players that could be found.\\n\\nThus, rural workers who had become adept at the game were being employed to play as ‘hands’ for the aristocracy and were travelling for their employ.\\n\\nAt this time London, particularly North London, can lay claim to being the cradle of the game as matches staged in Islington at White Conduit Field had a ‘field keeper’ for cricket and the Angel Inn as part of its amenities.\\n\\nIn 1718 a match at White Conduit Field brought cricket into the law courts after a dispute between the two teams.\\n\\nThe other area to lay claim to the ‘Cradle of Cricket’ was Hambledon in Hampshire, where the matches staged at the Broad Down of Halfpenny were where cricket began to ‘ assume that truly skilful and scientific character which it now possesses.’\\n\\nThe men of Hambledon were immortalised in the writing of John Nyren, who captured the spirit of the club, its segregation between the classes and its rich and varied club life.\\n\\nThe game continued to spread through England as the provincial towns grew with industrialization, with the first recorded game in Yorkshire played in the 1750’s.\\n\\nThe Laws of the Game\\n\\nBy 1744 the Laws of Cricket had been codified and in 1788 the laws were revised by the Marylebone Cricket Club, they covered the length of the pitch, the distance between creases, wicket size, and ball weight.\\n\\nAfter 1760 the game saw the evolution of over arm bowling, replacing under arm bowling as the main way to deliver the ball. The game began to see the use of various lengths utilised by bowlers and the development of the craft of batting, as batters sought to respond to new bowling techniques.\\n\\nThe ‘Straight Bat’ was introduced as part of this counter to new bowling techniques, the old bent ‘hockey stick’ style of bat went out of fashion.\\n\\nSee the pictures here from a display at the Lords Museum that show the bats evolution\\n\\n\\n\\nThe Global Spread of Cricket\\nCricket began to spread with Britains’ Imperialist ambitions, the Navy and Army were instrumental in its spread into the Colonies, with games being recorded in North America in the 1700’s.\\n\\nIn the 1800’s cricket had reached the West Indies and India, by 1788 at the inception of colonization in Australia the game was played and in the 19th century cricket had reached and was being played in South Africaand New Zealand.\\n\\nThe first International match was staged in New York in 1844 between Canada and the United States. In 1868 an Australian Aboriginal side toured England and by 1877 England played their first match against Australia to begin the games oldest rivalry.\\n\\nIn 1882 England lost to Australia, a mock obituary was written for English cricket and two Melbourne ladies burnt a bail and presented it to the England cricket captain in an urn.\\n\\nThus began the Ashes,the games longest running saga as the two sides play off every two years for the fabled urn.\\n\\nIn 1889 South Africa became the third test nation.\\n\\nIn 1900 cricket made its one and only appearance at the Olympics, England played France and won. Although interestingly, it looks as if cricket may be re-admitted to the Olympics in its shortest form, 20 20 cricket.\\n\\nBy 1909 the Imperial Cricket Conference was formed to administrate the game, primarily from an English perspective, with England, South Africa and Australia being its founder members.\\n\\nIndia, the West Indies and New Zealand saw them become Test playing nations before the second WW, Pakistan joining after.\\n\\nAffiliate nations like Sri Lanka, formerly Ceylon, Zimababwe and Bangladesh have become Test playing nations toward the end of the twentieth century.\\n\\nCrises in Cricket\\nThe Twentieth Century saw major crises in cricket, initially in the bodyline series in 1932 -33 between Australia and England.\\n\\nEnglands’ method of countering the genius of Don Bradman lead them to bowl to a leg side field with short pitched bowling. The Australians deemed this ‘not cricket’ and against the spirit of the game. It was an event of such proportions that Australia threatened to take political action they were so disturbed by it.\\n\\nThen in the 1970’s the D’Oliveira Affair blew South Africa from the international cricket stage for over twenty years, as they refused to receive the England team with the Cape Coloured Basil D’Oliveira in it.\\n\\nIts racist policies saw it cast into the wilderness only to return after the release of Nelson Mandela and the institution of multi racial cricket.\\n\\nThe 1960’s and 70’s saw the introduction of single innings games, with the first class sides in England playing limited over cricket, these proved hugely popular and cricket saw its first One Day International in 1971 between England and Australia.\\n\\nIn the mid 1970’s an Australian Media Mogul, Kerry Packer, bought up the worlds best cricketers and set up World Series Cricket, the players played in coloured clothing. Packer took on the cricket establishment in a legal battle for the right to host and televise games and won.\\n\\nWorld Series Cricket went a long way to professionalising the game in the 1970’s and allowing the players a living wage from their profession.\\n\\nTechnology: Innovation or Invasion\\nAs the One Day game developed it brought with it some of the innovations from Tennis and American football, the use of technology to bring better decision making for umpires and to highlight areas of interest for the TV audience.\\n\\nBeginning with slow motion replays and specialist camera angles for Umpires, the game now has space age technology with ‘Stump Cams’,’Hot Spots’ and ‘Hawk Eye’, technology derived from modern warfare.\\n\\nWhether technology has improved the decison making of Umpires remains to be seen, there have been breakdowns in the application of technology and its lack of uniform roll out across all international games undermines its credibility.\\n\\nT20 Cricket: Rebirth or the Death of Cricket As We Know it?\\n \\n\\nTwenty Twenty Cricket was born in England in the early 2000’s, it literally exploded into new market places in cricket, it brought with it a new audience and target market.\\n\\nIt was spectacularly seized upon by the BCCI after the 2007 Twenty Twenty World Cup as they set up the Indian Premier League with the worlds best players, modelled on the English Premier League Football Competition.\\n\\nIt is now the worlds second biggest sporting event, second only to the Olympics, because of India’s vast population and sub-continent marketplace.\\n\\nHow it grows will remain to be seen, whether it consumes itself with overkill or goes on to be the biggest growth area in cricket in the 21st century, only time will tell.'"
            ],
            "application/vnd.google.colaboratory.intrinsic+json": {
              "type": "string"
            }
          },
          "metadata": {},
          "execution_count": 3
        }
      ]
    },
    {
      "cell_type": "code",
      "source": [
        "# filters = '!\"#$%&()*+,-./:;<=>?@[]\\\\^_'{|}~\\t'    # define the filters we want"
      ],
      "metadata": {
        "id": "STpXnWJc-riX"
      },
      "execution_count": null,
      "outputs": []
    },
    {
      "cell_type": "code",
      "source": [
        "tokenizer =tf.keras.preprocessing.text.Tokenizer()                         # define the tokenizer\n",
        "\n",
        "# tokenizer =tf.keras.preprocessing.text.Tokenizer(filters = filters)      # define the tokenizer with the filters"
      ],
      "metadata": {
        "id": "U66CEB_LsfI3"
      },
      "execution_count": null,
      "outputs": []
    },
    {
      "cell_type": "code",
      "source": [
        "tokenizer.fit_on_texts([cricket_history])         # convert the text into numerical values"
      ],
      "metadata": {
        "id": "GKin5GZmsfG0"
      },
      "execution_count": null,
      "outputs": []
    },
    {
      "cell_type": "code",
      "source": [
        "tokenizer.get_config()    # display the tokens given for the words and other details about the tokenizer"
      ],
      "metadata": {
        "id": "zPwWPemfsfEY",
        "colab": {
          "base_uri": "https://localhost:8080/"
        },
        "outputId": "7572755d-6c8f-428d-852f-ca58e021bcd3"
      },
      "execution_count": null,
      "outputs": [
        {
          "output_type": "execute_result",
          "data": {
            "text/plain": [
              "{'num_words': None,\n",
              " 'filters': '!\"#$%&()*+,-./:;<=>?@[\\\\]^_`{|}~\\t\\n',\n",
              " 'lower': True,\n",
              " 'split': ' ',\n",
              " 'char_level': False,\n",
              " 'oov_token': None,\n",
              " 'document_count': 1,\n",
              " 'word_counts': '{\"cricket\": 35, \"history\": 2, \"is\": 8, \"particularly\": 2, \"murky\": 1, \"and\": 47, \"vague\": 1, \"as\": 25, \"to\": 45, \"the\": 148, \"exact\": 1, \"origins\": 1, \"of\": 48, \"game\": 22, \"it\": 22, \"believed\": 1, \"have\": 4, \"been\": 4, \"born\": 2, \"in\": 57, \"england\": 15, \"late\": 1, \"middle\": 1, \"ages\": 1, \"edward\": 3, \"iii\": 2, \"banned\": 1, \"a\": 22, \"similar\": 2, \"1369\": 1, \"\\\\u2018pila\": 1, \"baculorea\\\\u2019\": 1, \"or\": 5, \"\\\\u2018club\": 1, \"ball\\\\u2019\": 1, \"was\": 15, \"known\": 1, \"he\": 1, \"saw\": 7, \"being\": 8, \"distraction\": 1, \"his\": 2, \"war\": 1, \"effort\": 1, \"derek\": 1, \"birley\": 1, \"wonderful\": 1, \"book\": 1, \"\\\\u2018a\": 1, \"social\": 1, \"english\": 6, \"cricket\\\\u2019\": 3, \"suggests\": 1, \"came\": 1, \"with\": 16, \"french\": 1, \"during\": 2, \"time\": 5, \"norman\": 1, \"invasion\": 2, \"that\": 9, \"their\": 4, \"word\": 3, \"\\\\u2018criquet\\\\u2019\": 1, \"dialect\": 1, \"name\": 1, \"for\": 19, \"variation\": 1, \"club\": 4, \"ball\": 3, \"had\": 9, \"sought\": 2, \"eradicate\": 1, \"there\": 3, \"record\": 1, \"\\\\u2018creag\\\\u2019\": 2, \"derivative\": 1, \"creaget\": 1, \"1299\": 1, \"1300\": 1, \"royal\": 1, \"wardrobe\": 1, \"accounts\": 1, \"then\": 2, \"prince\": 1, \"ii\": 1, \"play\": 3, \"other\": 2, \"games\": 8, \"no\": 1, \"evidence\": 1, \"creag\": 1, \"same\": 1, \"criquet\": 1, \"links\": 1, \"are\": 1, \"too\": 1, \"tenuous\": 1, \"rarely\": 1, \"appear\": 1, \"any\": 1, \"records\": 1, \"this\": 5, \"unless\": 1, \"aristocracy\": 5, \"were\": 16, \"playing\": 6, \"them\": 4, \"trying\": 1, \"eradicated\": 1, \"morally\": 1, \"degenerate\": 1, \"first\": 6, \"recorded\": 5, \"played\": 11, \"by\": 11, \"schoolboys\": 1, \"guildford\": 1, \"sixteenth\": 1, \"century\": 5, \"found\": 2, \"an\": 6, \"italian\": 1, \"dictionary\": 1, \"1598\": 1, \"gambling\": 2, \"working\": 2, \"classes\": 4, \"1611\": 1, \"adults\": 1, \"two\": 5, \"men\": 3, \"prosecuted\": 1, \"instead\": 1, \"attending\": 2, \"church\": 2, \"on\": 5, \"theme\": 1, \"1628\": 1, \"ten\": 1, \"fined\": 1, \"rather\": 1, \"than\": 1, \"service\": 1, \"they\": 7, \"also\": 1, \"make\": 1, \"confession\": 1, \"congregation\": 1, \"way\": 3, \"penance\": 1, \"continued\": 2, \"evolve\": 1, \"amongst\": 1, \"became\": 2, \"central\": 1, \"its\": 13, \"growth\": 2, \"particular\": 1, \"seen\": 3, \"obvious\": 1, \"attributes\": 1, \"bet\": 1, \"outcomes\": 1, \"teams\": 4, \"assembled\": 2, \"under\": 2, \"patronage\": 1, \"aristocrats\": 1, \"purses\": 2, \"put\": 1, \"up\": 4, \"\\\\u2018great\": 2, \"matches\\\\u2019\": 2, \"1696\": 1, \"\\\\u2018\": 2, \"great\": 1, \"match\": 4, \"at\": 9, \"sussex\": 1, \"eleven\": 1, \"side\": 3, \"fifty\": 1, \"guineas\": 1, \"apiece\\\\u2019\": 1, \"growing\": 1, \"both\": 1, \"within\": 1, \"upper\": 1, \"genuine\": 1, \"recreational\": 1, \"past\": 1, \"rural\": 2, \"workers\": 2, \"southern\": 1, \"counties\": 1, \"composite\": 1, \"beginning\": 2, \"be\": 6, \"period\": 1, \"early\": 2, \"1700\\\\u2019s\": 2, \"crossing\": 1, \"class\": 2, \"divides\": 1, \"encouraged\": 1, \"nobility\": 1, \"patronizing\": 1, \"employ\": 2, \"best\": 3, \"players\": 4, \"could\": 1, \"thus\": 2, \"who\": 2, \"become\": 3, \"adept\": 1, \"employed\": 1, \"\\\\u2018hands\\\\u2019\": 1, \"travelling\": 1, \"london\": 2, \"north\": 2, \"can\": 1, \"lay\": 2, \"claim\": 2, \"cradle\": 1, \"matches\": 2, \"staged\": 3, \"islington\": 1, \"white\": 2, \"conduit\": 2, \"field\": 3, \"\\\\u2018field\": 1, \"keeper\\\\u2019\": 1, \"angel\": 1, \"inn\": 1, \"part\": 2, \"amenities\": 1, \"1718\": 1, \"brought\": 3, \"into\": 4, \"law\": 1, \"courts\": 1, \"after\": 5, \"dispute\": 1, \"between\": 6, \"area\": 2, \"\\\\u2018cradle\": 1, \"hambledon\": 2, \"hampshire\": 1, \"where\": 2, \"broad\": 1, \"down\": 1, \"halfpenny\": 1, \"began\": 4, \"assume\": 1, \"truly\": 1, \"skilful\": 1, \"scientific\": 1, \"character\": 1, \"which\": 1, \"now\": 3, \"possesses\": 1, \"\\\\u2019\": 1, \"immortalised\": 1, \"writing\": 1, \"john\": 1, \"nyren\": 1, \"captured\": 1, \"spirit\": 2, \"segregation\": 1, \"rich\": 1, \"varied\": 1, \"life\": 1, \"spread\": 4, \"through\": 1, \"provincial\": 1, \"towns\": 1, \"grew\": 1, \"industrialization\": 1, \"yorkshire\": 1, \"1750\\\\u2019s\": 1, \"laws\": 3, \"1744\": 1, \"codified\": 1, \"1788\": 2, \"revised\": 1, \"marylebone\": 1, \"covered\": 1, \"length\": 1, \"pitch\": 1, \"distance\": 1, \"creases\": 1, \"wicket\": 1, \"size\": 1, \"weight\": 1, \"1760\": 1, \"evolution\": 2, \"over\": 3, \"arm\": 2, \"bowling\": 5, \"replacing\": 1, \"main\": 1, \"deliver\": 1, \"see\": 2, \"use\": 2, \"various\": 1, \"lengths\": 1, \"utilised\": 1, \"bowlers\": 1, \"development\": 1, \"craft\": 1, \"batting\": 1, \"batters\": 1, \"respond\": 1, \"new\": 7, \"techniques\": 2, \"\\\\u2018straight\": 1, \"bat\\\\u2019\": 1, \"introduced\": 1, \"counter\": 1, \"old\": 1, \"bent\": 1, \"\\\\u2018hockey\": 1, \"stick\\\\u2019\": 1, \"style\": 1, \"bat\": 1, \"went\": 2, \"out\": 2, \"fashion\": 1, \"pictures\": 1, \"here\": 1, \"from\": 6, \"display\": 1, \"lords\": 1, \"museum\": 1, \"show\": 1, \"bats\": 1, \"global\": 1, \"britains\\\\u2019\": 1, \"imperialist\": 1, \"ambitions\": 1, \"navy\": 1, \"army\": 1, \"instrumental\": 1, \"colonies\": 1, \"america\": 1, \"1800\\\\u2019s\": 1, \"reached\": 2, \"west\": 2, \"indies\": 2, \"india\": 2, \"inception\": 1, \"colonization\": 1, \"australia\": 7, \"19th\": 1, \"south\": 4, \"africaand\": 1, \"zealand\": 2, \"international\": 4, \"york\": 1, \"1844\": 1, \"canada\": 1, \"united\": 1, \"states\": 1, \"1868\": 1, \"australian\": 2, \"aboriginal\": 1, \"toured\": 1, \"1877\": 1, \"against\": 2, \"begin\": 1, \"oldest\": 1, \"rivalry\": 1, \"1882\": 1, \"lost\": 1, \"mock\": 1, \"obituary\": 1, \"written\": 1, \"melbourne\": 1, \"ladies\": 1, \"burnt\": 1, \"bail\": 1, \"presented\": 1, \"captain\": 1, \"urn\": 2, \"ashes\": 1, \"longest\": 1, \"running\": 1, \"saga\": 1, \"sides\": 2, \"off\": 1, \"every\": 1, \"years\": 2, \"fabled\": 1, \"1889\": 1, \"africa\": 3, \"third\": 1, \"test\": 3, \"nation\": 1, \"1900\": 1, \"made\": 1, \"one\": 3, \"only\": 4, \"appearance\": 1, \"olympics\": 3, \"france\": 1, \"won\": 2, \"although\": 1, \"interestingly\": 1, \"looks\": 1, \"if\": 1, \"may\": 1, \"re\": 1, \"admitted\": 1, \"shortest\": 1, \"form\": 1, \"20\": 2, \"1909\": 1, \"imperial\": 1, \"conference\": 1, \"formed\": 1, \"administrate\": 1, \"primarily\": 1, \"perspective\": 1, \"founder\": 1, \"members\": 1, \"nations\": 3, \"before\": 1, \"second\": 3, \"ww\": 1, \"pakistan\": 1, \"joining\": 1, \"affiliate\": 1, \"like\": 1, \"sri\": 1, \"lanka\": 1, \"formerly\": 1, \"ceylon\": 1, \"zimababwe\": 1, \"bangladesh\": 1, \"toward\": 1, \"end\": 1, \"twentieth\": 2, \"crises\": 2, \"major\": 1, \"initially\": 1, \"bodyline\": 1, \"series\": 3, \"1932\": 1, \"33\": 1, \"englands\\\\u2019\": 1, \"method\": 1, \"countering\": 1, \"genius\": 1, \"don\": 1, \"bradman\": 1, \"lead\": 1, \"bowl\": 1, \"leg\": 1, \"short\": 1, \"pitched\": 1, \"australians\": 1, \"deemed\": 1, \"\\\\u2018not\": 1, \"event\": 2, \"such\": 1, \"proportions\": 1, \"threatened\": 1, \"take\": 1, \"political\": 1, \"action\": 1, \"so\": 1, \"disturbed\": 1, \"1970\\\\u2019s\": 3, \"d\\\\u2019oliveira\": 2, \"affair\": 1, \"blew\": 1, \"stage\": 1, \"twenty\": 5, \"refused\": 1, \"receive\": 1, \"team\": 1, \"cape\": 1, \"coloured\": 2, \"basil\": 1, \"racist\": 1, \"policies\": 1, \"cast\": 1, \"wilderness\": 1, \"return\": 1, \"release\": 1, \"nelson\": 1, \"mandela\": 1, \"institution\": 1, \"multi\": 1, \"racial\": 1, \"1960\\\\u2019s\": 1, \"70\\\\u2019s\": 1, \"introduction\": 1, \"single\": 1, \"innings\": 1, \"limited\": 1, \"these\": 1, \"proved\": 1, \"hugely\": 1, \"popular\": 1, \"day\": 2, \"1971\": 1, \"mid\": 1, \"media\": 1, \"mogul\": 1, \"kerry\": 1, \"packer\": 2, \"bought\": 1, \"worlds\": 3, \"cricketers\": 1, \"set\": 2, \"world\": 3, \"clothing\": 1, \"took\": 1, \"establishment\": 1, \"legal\": 1, \"battle\": 1, \"right\": 1, \"host\": 1, \"televise\": 1, \"long\": 1, \"professionalising\": 1, \"allowing\": 1, \"living\": 1, \"wage\": 1, \"profession\": 1, \"technology\": 6, \"innovation\": 1, \"developed\": 1, \"some\": 1, \"innovations\": 1, \"tennis\": 1, \"american\": 1, \"football\": 2, \"bring\": 1, \"better\": 1, \"decision\": 1, \"making\": 2, \"umpires\": 3, \"highlight\": 1, \"areas\": 1, \"interest\": 1, \"tv\": 1, \"audience\": 2, \"slow\": 1, \"motion\": 1, \"replays\": 1, \"specialist\": 1, \"camera\": 1, \"angles\": 1, \"has\": 2, \"space\": 1, \"age\": 1, \"\\\\u2018stump\": 1, \"cams\\\\u2019\": 1, \"\\\\u2019hot\": 1, \"spots\\\\u2019\": 1, \"\\\\u2018hawk\": 1, \"eye\\\\u2019\": 1, \"derived\": 1, \"modern\": 1, \"warfare\": 1, \"whether\": 2, \"improved\": 1, \"decison\": 1, \"remains\": 1, \"breakdowns\": 1, \"application\": 1, \"lack\": 1, \"uniform\": 1, \"roll\": 1, \"across\": 1, \"all\": 1, \"undermines\": 1, \"credibility\": 1, \"t20\": 1, \"rebirth\": 1, \"death\": 1, \"we\": 1, \"know\": 1, \"2000\\\\u2019s\": 1, \"literally\": 1, \"exploded\": 1, \"market\": 2, \"places\": 1, \"target\": 1, \"spectacularly\": 1, \"seized\": 1, \"upon\": 1, \"bcci\": 1, \"2007\": 1, \"cup\": 1, \"indian\": 1, \"premier\": 2, \"league\": 2, \"modelled\": 1, \"competition\": 1, \"biggest\": 2, \"sporting\": 1, \"because\": 1, \"india\\\\u2019s\": 1, \"vast\": 1, \"population\": 1, \"sub\": 1, \"continent\": 1, \"marketplace\": 1, \"how\": 1, \"grows\": 1, \"will\": 2, \"remain\": 1, \"consumes\": 1, \"itself\": 1, \"overkill\": 1, \"goes\": 1, \"21st\": 1, \"tell\": 1}',\n",
              " 'word_docs': '{\"here\": 1, \"aristocracy\": 1, \"genius\": 1, \"policies\": 1, \"an\": 1, \"distance\": 1, \"now\": 1, \"beginning\": 1, \"at\": 1, \"bowlers\": 1, \"time\": 1, \"who\": 1, \"melbourne\": 1, \"sri\": 1, \"long\": 1, \"captain\": 1, \"there\": 1, \"first\": 1, \"colonization\": 1, \"india\": 1, \"seen\": 1, \"bent\": 1, \"single\": 1, \"york\": 1, \"during\": 1, \"patronage\": 1, \"tv\": 1, \"australians\": 1, \"institution\": 1, \"marylebone\": 1, \"after\": 1, \"places\": 1, \"mogul\": 1, \"umpires\": 1, \"army\": 1, \"highlight\": 1, \"book\": 1, \"eradicate\": 1, \"audience\": 1, \"modelled\": 1, \"innovations\": 1, \"found\": 1, \"criquet\": 1, \"aboriginal\": 1, \"primarily\": 1, \"upon\": 1, \"name\": 1, \"\\\\u2019hot\": 1, \"olympics\": 1, \"america\": 1, \"\\\\u2018a\": 1, \"sub\": 1, \"club\": 1, \"administrate\": 1, \"particularly\": 1, \"derived\": 1, \"both\": 1, \"football\": 1, \"indian\": 1, \"italian\": 1, \"urn\": 1, \"angel\": 1, \"down\": 1, \"any\": 1, \"across\": 1, \"courts\": 1, \"united\": 1, \"employed\": 1, \"baculorea\\\\u2019\": 1, \"end\": 1, \"lead\": 1, \"decision\": 1, \"motion\": 1, \"t20\": 1, \"bet\": 1, \"bat\": 1, \"application\": 1, \"televise\": 1, \"bring\": 1, \"that\": 1, \"improved\": 1, \"their\": 1, \"law\": 1, \"on\": 1, \"degenerate\": 1, \"1877\": 1, \"these\": 1, \"batters\": 1, \"ashes\": 1, \"revised\": 1, \"britains\\\\u2019\": 1, \"within\": 1, \"racial\": 1, \"iii\": 1, \"west\": 1, \"classes\": 1, \"men\": 1, \"africa\": 1, \"matches\\\\u2019\": 1, \"variation\": 1, \"competition\": 1, \"tell\": 1, \"conference\": 1, \"states\": 1, \"divides\": 1, \"\\\\u2018\": 1, \"utilised\": 1, \"no\": 1, \"re\": 1, \"affair\": 1, \"breakdowns\": 1, \"in\": 1, \"immortalised\": 1, \"1960\\\\u2019s\": 1, \"multi\": 1, \"its\": 1, \"obvious\": 1, \"pitched\": 1, \"formed\": 1, \"kerry\": 1, \"cams\\\\u2019\": 1, \"india\\\\u2019s\": 1, \"we\": 1, \"host\": 1, \"links\": 1, \"records\": 1, \"undermines\": 1, \"age\": 1, \"running\": 1, \"bought\": 1, \"form\": 1, \"take\": 1, \"imperial\": 1, \"outcomes\": 1, \"make\": 1, \"rebirth\": 1, \"went\": 1, \"word\": 1, \"replays\": 1, \"brought\": 1, \"banned\": 1, \"wilderness\": 1, \"\\\\u2018stump\": 1, \"remain\": 1, \"life\": 1, \"middle\": 1, \"mock\": 1, \"uniform\": 1, \"history\": 1, \"twenty\": 1, \"marketplace\": 1, \"could\": 1, \"1970\\\\u2019s\": 1, \"into\": 1, \"innovation\": 1, \"years\": 1, \"\\\\u2018creag\\\\u2019\": 1, \"twentieth\": 1, \"perspective\": 1, \"islington\": 1, \"match\": 1, \"spectacularly\": 1, \"members\": 1, \"ten\": 1, \"rich\": 1, \"origins\": 1, \"believed\": 1, \"how\": 1, \"so\": 1, \"dialect\": 1, \"south\": 1, \"like\": 1, \"than\": 1, \"inn\": 1, \"guildford\": 1, \"class\": 1, \"wonderful\": 1, \"every\": 1, \"event\": 1, \"\\\\u2019\": 1, \"refused\": 1, \"pitch\": 1, \"travelling\": 1, \"third\": 1, \"service\": 1, \"are\": 1, \"saw\": 1, \"instrumental\": 1, \"dictionary\": 1, \"stick\\\\u2019\": 1, \"out\": 1, \"growth\": 1, \"written\": 1, \"then\": 1, \"nations\": 1, \"counties\": 1, \"battle\": 1, \"2007\": 1, \"hambledon\": 1, \"france\": 1, \"period\": 1, \"cup\": 1, \"north\": 1, \"new\": 1, \"1882\": 1, \"making\": 1, \"patronizing\": 1, \"literally\": 1, \"fabled\": 1, \"admitted\": 1, \"known\": 1, \"living\": 1, \"better\": 1, \"1369\": 1, \"lay\": 1, \"skilful\": 1, \"thus\": 1, \"slow\": 1, \"specialist\": 1, \"american\": 1, \"1868\": 1, \"birley\": 1, \"born\": 1, \"dispute\": 1, \"played\": 1, \"players\": 1, \"deliver\": 1, \"vast\": 1, \"with\": 1, \"camera\": 1, \"grew\": 1, \"southern\": 1, \"london\": 1, \"wardrobe\": 1, \"reached\": 1, \"\\\\u2018hockey\": 1, \"world\": 1, \"whether\": 1, \"lost\": 1, \"amongst\": 1, \"against\": 1, \"of\": 1, \"as\": 1, \"although\": 1, \"trying\": 1, \"canada\": 1, \"eye\\\\u2019\": 1, \"bowl\": 1, \"some\": 1, \"legal\": 1, \"goes\": 1, \"d\\\\u2019oliveira\": 1, \"lack\": 1, \"his\": 1, \"central\": 1, \"blew\": 1, \"decison\": 1, \"1889\": 1, \"major\": 1, \"australia\": 1, \"worlds\": 1, \"appear\": 1, \"congregation\": 1, \"toward\": 1, \"staged\": 1, \"varied\": 1, \"england\": 1, \"initially\": 1, \"length\": 1, \"is\": 1, \"it\": 1, \"1598\": 1, \"made\": 1, \"area\": 1, \"attributes\": 1, \"pakistan\": 1, \"mid\": 1, \"bail\": 1, \"sixteenth\": 1, \"1700\\\\u2019s\": 1, \"working\": 1, \"derivative\": 1, \"saga\": 1, \"cradle\": 1, \"shortest\": 1, \"clothing\": 1, \"took\": 1, \"arm\": 1, \"possesses\": 1, \"cricket\": 1, \"\\\\u2018field\": 1, \"know\": 1, \"techniques\": 1, \"encouraged\": 1, \"become\": 1, \"weight\": 1, \"league\": 1, \"accounts\": 1, \"pictures\": 1, \"overkill\": 1, \"\\\\u2018hands\\\\u2019\": 1, \"exploded\": 1, \"englands\\\\u2019\": 1, \"field\": 1, \"target\": 1, \"70\\\\u2019s\": 1, \"church\": 1, \"also\": 1, \"remains\": 1, \"\\\\u2018cradle\": 1, \"museum\": 1, \"tennis\": 1, \"1800\\\\u2019s\": 1, \"cape\": 1, \"deemed\": 1, \"1900\": 1, \"social\": 1, \"over\": 1, \"rarely\": 1, \"right\": 1, \"return\": 1, \"this\": 1, \"keeper\\\\u2019\": 1, \"21st\": 1, \"creases\": 1, \"1760\": 1, \"1750\\\\u2019s\": 1, \"global\": 1, \"between\": 1, \"creag\": 1, \"adults\": 1, \"which\": 1, \"leg\": 1, \"covered\": 1, \"bcci\": 1, \"stage\": 1, \"media\": 1, \"evidence\": 1, \"consumes\": 1, \"or\": 1, \"playing\": 1, \"hampshire\": 1, \"warfare\": 1, \"upper\": 1, \"towns\": 1, \"threatened\": 1, \"employ\": 1, \"second\": 1, \"batting\": 1, \"size\": 1, \"by\": 1, \"toured\": 1, \"indies\": 1, \"the\": 1, \"amenities\": 1, \"development\": 1, \"craft\": 1, \"such\": 1, \"suggests\": 1, \"wage\": 1, \"before\": 1, \"affiliate\": 1, \"growing\": 1, \"death\": 1, \"looks\": 1, \"were\": 1, \"fined\": 1, \"yorkshire\": 1, \"bowling\": 1, \"if\": 1, \"ages\": 1, \"began\": 1, \"schoolboys\": 1, \"founder\": 1, \"exact\": 1, \"eradicated\": 1, \"halfpenny\": 1, \"from\": 1, \"being\": 1, \"short\": 1, \"english\": 1, \"interest\": 1, \"1628\": 1, \"early\": 1, \"oldest\": 1, \"ladies\": 1, \"2000\\\\u2019s\": 1, \"john\": 1, \"old\": 1, \"hugely\": 1, \"writing\": 1, \"ww\": 1, \"century\": 1, \"bodyline\": 1, \"best\": 1, \"1611\": 1, \"fifty\": 1, \"seized\": 1, \"biggest\": 1, \"attending\": 1, \"formerly\": 1, \"1932\": 1, \"nyren\": 1, \"bats\": 1, \"international\": 1, \"ball\": 1, \"premier\": 1, \"day\": 1, \"broad\": 1, \"war\": 1, \"cricketers\": 1, \"particular\": 1, \"method\": 1, \"them\": 1, \"\\\\u2018not\": 1, \"angles\": 1, \"receive\": 1, \"continued\": 1, \"distraction\": 1, \"prosecuted\": 1, \"proportions\": 1, \"see\": 1, \"they\": 1, \"action\": 1, \"for\": 1, \"sussex\": 1, \"begin\": 1, \"profession\": 1, \"spots\\\\u2019\": 1, \"navy\": 1, \"burnt\": 1, \"apiece\\\\u2019\": 1, \"murky\": 1, \"guineas\": 1, \"captured\": 1, \"wicket\": 1, \"one\": 1, \"\\\\u2018hawk\": 1, \"sought\": 1, \"crossing\": 1, \"conduit\": 1, \"play\": 1, \"display\": 1, \"establishment\": 1, \"aristocrats\": 1, \"colonies\": 1, \"where\": 1, \"penance\": 1, \"modern\": 1, \"appearance\": 1, \"put\": 1, \"past\": 1, \"adept\": 1, \"white\": 1, \"interestingly\": 1, \"20\": 1, \"sides\": 1, \"ceylon\": 1, \"instead\": 1, \"itself\": 1, \"1744\": 1, \"through\": 1, \"to\": 1, \"games\": 1, \"provincial\": 1, \"don\": 1, \"limited\": 1, \"market\": 1, \"off\": 1, \"nation\": 1, \"genuine\": 1, \"ambitions\": 1, \"population\": 1, \"political\": 1, \"zealand\": 1, \"introduction\": 1, \"\\\\u2018criquet\\\\u2019\": 1, \"evolution\": 1, \"creaget\": 1, \"claim\": 1, \"be\": 1, \"zimababwe\": 1, \"cricket\\\\u2019\": 1, \"various\": 1, \"1788\": 1, \"recreational\": 1, \"1971\": 1, \"has\": 1, \"workers\": 1, \"team\": 1, \"because\": 1, \"spirit\": 1, \"roll\": 1, \"1718\": 1, \"tenuous\": 1, \"\\\\u2018straight\": 1, \"derek\": 1, \"great\": 1, \"\\\\u2018great\": 1, \"eleven\": 1, \"imperialist\": 1, \"too\": 1, \"vague\": 1, \"way\": 1, \"part\": 1, \"all\": 1, \"unless\": 1, \"1844\": 1, \"bradman\": 1, \"developed\": 1, \"matches\": 1, \"series\": 1, \"basil\": 1, \"prince\": 1, \"french\": 1, \"style\": 1, \"sporting\": 1, \"similar\": 1, \"\\\\u2018pila\": 1, \"edward\": 1, \"norman\": 1, \"packer\": 1, \"side\": 1, \"rather\": 1, \"19th\": 1, \"main\": 1, \"scientific\": 1, \"inception\": 1, \"rivalry\": 1, \"was\": 1, \"use\": 1, \"release\": 1, \"gambling\": 1, \"will\": 1, \"won\": 1, \"purses\": 1, \"been\": 1, \"technology\": 1, \"disturbed\": 1, \"codified\": 1, \"lanka\": 1, \"late\": 1, \"1696\": 1, \"nobility\": 1, \"professionalising\": 1, \"came\": 1, \"game\": 1, \"cast\": 1, \"1300\": 1, \"credibility\": 1, \"royal\": 1, \"have\": 1, \"segregation\": 1, \"confession\": 1, \"\\\\u2018club\": 1, \"theme\": 1, \"space\": 1, \"may\": 1, \"introduced\": 1, \"laws\": 1, \"nelson\": 1, \"a\": 1, \"allowing\": 1, \"lengths\": 1, \"show\": 1, \"fashion\": 1, \"same\": 1, \"longest\": 1, \"assume\": 1, \"morally\": 1, \"recorded\": 1, \"popular\": 1, \"assembled\": 1, \"grows\": 1, \"australian\": 1, \"bangladesh\": 1, \"only\": 1, \"record\": 1, \"effort\": 1, \"rural\": 1, \"composite\": 1, \"mandela\": 1, \"1909\": 1, \"continent\": 1, \"33\": 1, \"countering\": 1, \"up\": 1, \"spread\": 1, \"obituary\": 1, \"truly\": 1, \"set\": 1, \"coloured\": 1, \"replacing\": 1, \"test\": 1, \"character\": 1, \"industrialization\": 1, \"1299\": 1, \"counter\": 1, \"invasion\": 1, \"proved\": 1, \"ball\\\\u2019\": 1, \"became\": 1, \"areas\": 1, \"africaand\": 1, \"can\": 1, \"evolve\": 1, \"under\": 1, \"joining\": 1, \"teams\": 1, \"respond\": 1, \"racist\": 1, \"and\": 1, \"innings\": 1, \"bat\\\\u2019\": 1, \"had\": 1, \"ii\": 1, \"crises\": 1, \"two\": 1, \"lords\": 1, \"other\": 1, \"presented\": 1, \"he\": 1}',\n",
              " 'index_docs': '{\"379\": 1, \"40\": 1, \"476\": 1, \"504\": 1, \"32\": 1, \"349\": 1, \"79\": 1, \"121\": 1, \"21\": 1, \"361\": 1, \"38\": 1, \"127\": 1, \"416\": 1, \"460\": 1, \"539\": 1, \"421\": 1, \"68\": 1, \"31\": 1, \"396\": 1, \"151\": 1, \"72\": 1, \"372\": 1, \"517\": 1, \"399\": 1, \"99\": 1, \"270\": 1, \"557\": 1, \"484\": 1, \"511\": 1, \"345\": 1, \"45\": 1, \"595\": 1, \"527\": 1, \"92\": 1, \"390\": 1, \"554\": 1, \"200\": 1, \"211\": 1, \"170\": 1, \"604\": 1, \"548\": 1, \"105\": 1, \"226\": 1, \"405\": 1, \"450\": 1, \"599\": 1, \"209\": 1, \"568\": 1, \"85\": 1, \"393\": 1, \"201\": 1, \"611\": 1, \"51\": 1, \"449\": 1, \"94\": 1, \"572\": 1, \"281\": 1, \"168\": 1, \"603\": 1, \"243\": 1, \"155\": 1, \"306\": 1, \"316\": 1, \"233\": 1, \"583\": 1, \"311\": 1, \"402\": 1, \"298\": 1, \"189\": 1, \"467\": 1, \"479\": 1, \"553\": 1, \"559\": 1, \"587\": 1, \"268\": 1, \"376\": 1, \"579\": 1, \"538\": 1, \"551\": 1, \"19\": 1, \"575\": 1, \"50\": 1, \"310\": 1, \"44\": 1, \"239\": 1, \"407\": 1, \"520\": 1, \"365\": 1, \"422\": 1, \"344\": 1, \"386\": 1, \"282\": 1, \"513\": 1, \"96\": 1, \"149\": 1, \"53\": 1, \"70\": 1, \"82\": 1, \"117\": 1, \"210\": 1, \"605\": 1, \"622\": 1, \"447\": 1, \"403\": 1, \"292\": 1, \"118\": 1, \"360\": 1, \"222\": 1, \"441\": 1, \"495\": 1, \"578\": 1, \"2\": 1, \"326\": 1, \"514\": 1, \"512\": 1, \"16\": 1, \"266\": 1, \"483\": 1, \"448\": 1, \"528\": 1, \"567\": 1, \"608\": 1, \"590\": 1, \"537\": 1, \"227\": 1, \"234\": 1, \"585\": 1, \"565\": 1, \"424\": 1, \"529\": 1, \"444\": 1, \"490\": 1, \"446\": 1, \"269\": 1, \"258\": 1, \"588\": 1, \"146\": 1, \"66\": 1, \"560\": 1, \"78\": 1, \"186\": 1, \"506\": 1, \"566\": 1, \"616\": 1, \"334\": 1, \"184\": 1, \"413\": 1, \"581\": 1, \"93\": 1, \"47\": 1, \"613\": 1, \"296\": 1, \"89\": 1, \"58\": 1, \"545\": 1, \"157\": 1, \"102\": 1, \"160\": 1, \"451\": 1, \"303\": 1, \"56\": 1, \"597\": 1, \"453\": 1, \"252\": 1, \"332\": 1, \"181\": 1, \"182\": 1, \"614\": 1, \"493\": 1, \"208\": 1, \"61\": 1, \"459\": 1, \"255\": 1, \"307\": 1, \"241\": 1, \"124\": 1, \"199\": 1, \"427\": 1, \"162\": 1, \"325\": 1, \"498\": 1, \"348\": 1, \"300\": 1, \"430\": 1, \"256\": 1, \"228\": 1, \"25\": 1, \"391\": 1, \"244\": 1, \"374\": 1, \"147\": 1, \"112\": 1, \"415\": 1, \"103\": 1, \"86\": 1, \"288\": 1, \"535\": 1, \"601\": 1, \"137\": 1, \"435\": 1, \"290\": 1, \"602\": 1, \"129\": 1, \"27\": 1, \"411\": 1, \"169\": 1, \"295\": 1, \"593\": 1, \"428\": 1, \"442\": 1, \"192\": 1, \"542\": 1, \"552\": 1, \"187\": 1, \"130\": 1, \"320\": 1, \"126\": 1, \"558\": 1, \"561\": 1, \"550\": 1, \"404\": 1, \"198\": 1, \"95\": 1, \"312\": 1, \"17\": 1, \"57\": 1, \"357\": 1, \"609\": 1, \"12\": 1, \"562\": 1, \"338\": 1, \"287\": 1, \"128\": 1, \"218\": 1, \"148\": 1, \"373\": 1, \"91\": 1, \"172\": 1, \"412\": 1, \"263\": 1, \"154\": 1, \"3\": 1, \"7\": 1, \"436\": 1, \"236\": 1, \"401\": 1, \"571\": 1, \"480\": 1, \"547\": 1, \"534\": 1, \"620\": 1, \"163\": 1, \"580\": 1, \"98\": 1, \"264\": 1, \"496\": 1, \"576\": 1, \"429\": 1, \"468\": 1, \"28\": 1, \"90\": 1, \"232\": 1, \"260\": 1, \"466\": 1, \"76\": 1, \"333\": 1, \"14\": 1, \"469\": 1, \"347\": 1, \"22\": 1, \"9\": 1, \"245\": 1, \"433\": 1, \"136\": 1, \"267\": 1, \"456\": 1, \"525\": 1, \"419\": 1, \"242\": 1, \"123\": 1, \"107\": 1, \"213\": 1, \"425\": 1, \"302\": 1, \"443\": 1, \"531\": 1, \"532\": 1, \"142\": 1, \"324\": 1, \"6\": 1, \"304\": 1, \"591\": 1, \"145\": 1, \"293\": 1, \"75\": 1, \"353\": 1, \"175\": 1, \"219\": 1, \"378\": 1, \"619\": 1, \"299\": 1, \"594\": 1, \"473\": 1, \"77\": 1, \"596\": 1, \"515\": 1, \"109\": 1, \"257\": 1, \"577\": 1, \"313\": 1, \"382\": 1, \"549\": 1, \"394\": 1, \"501\": 1, \"485\": 1, \"432\": 1, \"202\": 1, \"81\": 1, \"231\": 1, \"536\": 1, \"507\": 1, \"39\": 1, \"305\": 1, \"621\": 1, \"350\": 1, \"354\": 1, \"341\": 1, \"385\": 1, \"34\": 1, \"224\": 1, \"247\": 1, \"323\": 1, \"481\": 1, \"346\": 1, \"600\": 1, \"497\": 1, \"526\": 1, \"223\": 1, \"617\": 1, \"37\": 1, \"30\": 1, \"314\": 1, \"574\": 1, \"283\": 1, \"337\": 1, \"489\": 1, \"125\": 1, \"87\": 1, \"364\": 1, \"352\": 1, \"18\": 1, \"406\": 1, \"150\": 1, \"1\": 1, \"308\": 1, \"362\": 1, \"363\": 1, \"487\": 1, \"203\": 1, \"543\": 1, \"454\": 1, \"458\": 1, \"280\": 1, \"589\": 1, \"438\": 1, \"13\": 1, \"253\": 1, \"340\": 1, \"46\": 1, \"439\": 1, \"185\": 1, \"59\": 1, \"240\": 1, \"452\": 1, \"180\": 1, \"237\": 1, \"317\": 1, \"35\": 1, \"23\": 1, \"482\": 1, \"29\": 1, \"556\": 1, \"251\": 1, \"122\": 1, \"409\": 1, \"417\": 1, \"592\": 1, \"328\": 1, \"371\": 1, \"522\": 1, \"327\": 1, \"455\": 1, \"42\": 1, \"470\": 1, \"74\": 1, \"246\": 1, \"277\": 1, \"598\": 1, \"176\": 1, \"108\": 1, \"462\": 1, \"471\": 1, \"329\": 1, \"384\": 1, \"62\": 1, \"67\": 1, \"174\": 1, \"165\": 1, \"315\": 1, \"195\": 1, \"530\": 1, \"265\": 1, \"474\": 1, \"52\": 1, \"486\": 1, \"563\": 1, \"499\": 1, \"110\": 1, \"194\": 1, \"248\": 1, \"488\": 1, \"143\": 1, \"26\": 1, \"492\": 1, \"11\": 1, \"275\": 1, \"408\": 1, \"544\": 1, \"569\": 1, \"389\": 1, \"418\": 1, \"279\": 1, \"178\": 1, \"278\": 1, \"330\": 1, \"351\": 1, \"84\": 1, \"570\": 1, \"101\": 1, \"291\": 1, \"134\": 1, \"69\": 1, \"380\": 1, \"533\": 1, \"271\": 1, \"392\": 1, \"138\": 1, \"261\": 1, \"573\": 1, \"434\": 1, \"272\": 1, \"286\": 1, \"297\": 1, \"133\": 1, \"437\": 1, \"159\": 1, \"156\": 1, \"463\": 1, \"249\": 1, \"618\": 1, \"342\": 1, \"335\": 1, \"5\": 1, \"24\": 1, \"336\": 1, \"477\": 1, \"519\": 1, \"173\": 1, \"426\": 1, \"431\": 1, \"284\": 1, \"388\": 1, \"610\": 1, \"491\": 1, \"152\": 1, \"516\": 1, \"207\": 1, \"141\": 1, \"214\": 1, \"131\": 1, \"33\": 1, \"464\": 1, \"65\": 1, \"358\": 1, \"140\": 1, \"285\": 1, \"524\": 1, \"171\": 1, \"120\": 1, \"500\": 1, \"607\": 1, \"139\": 1, \"582\": 1, \"309\": 1, \"230\": 1, \"367\": 1, \"197\": 1, \"274\": 1, \"116\": 1, \"276\": 1, \"387\": 1, \"229\": 1, \"179\": 1, \"71\": 1, \"135\": 1, \"584\": 1, \"235\": 1, \"400\": 1, \"478\": 1, \"546\": 1, \"132\": 1, \"88\": 1, \"502\": 1, \"220\": 1, \"205\": 1, \"375\": 1, \"606\": 1, \"97\": 1, \"188\": 1, \"64\": 1, \"206\": 1, \"166\": 1, \"73\": 1, \"254\": 1, \"397\": 1, \"356\": 1, \"321\": 1, \"395\": 1, \"410\": 1, \"15\": 1, \"144\": 1, \"508\": 1, \"106\": 1, \"177\": 1, \"158\": 1, \"115\": 1, \"49\": 1, \"36\": 1, \"494\": 1, \"343\": 1, \"461\": 1, \"183\": 1, \"273\": 1, \"294\": 1, \"540\": 1, \"204\": 1, \"8\": 1, \"505\": 1, \"216\": 1, \"586\": 1, \"217\": 1, \"48\": 1, \"331\": 1, \"259\": 1, \"190\": 1, \"250\": 1, \"564\": 1, \"440\": 1, \"369\": 1, \"80\": 1, \"509\": 1, \"10\": 1, \"541\": 1, \"359\": 1, \"383\": 1, \"377\": 1, \"225\": 1, \"423\": 1, \"318\": 1, \"238\": 1, \"41\": 1, \"523\": 1, \"113\": 1, \"615\": 1, \"153\": 1, \"465\": 1, \"63\": 1, \"212\": 1, \"196\": 1, \"119\": 1, \"289\": 1, \"510\": 1, \"445\": 1, \"612\": 1, \"472\": 1, \"475\": 1, \"55\": 1, \"60\": 1, \"414\": 1, \"319\": 1, \"167\": 1, \"164\": 1, \"355\": 1, \"83\": 1, \"322\": 1, \"339\": 1, \"215\": 1, \"370\": 1, \"100\": 1, \"521\": 1, \"191\": 1, \"111\": 1, \"555\": 1, \"398\": 1, \"301\": 1, \"262\": 1, \"114\": 1, \"457\": 1, \"54\": 1, \"366\": 1, \"503\": 1, \"4\": 1, \"518\": 1, \"368\": 1, \"20\": 1, \"221\": 1, \"161\": 1, \"43\": 1, \"381\": 1, \"104\": 1, \"420\": 1, \"193\": 1}',\n",
              " 'index_word': '{\"1\": \"the\", \"2\": \"in\", \"3\": \"of\", \"4\": \"and\", \"5\": \"to\", \"6\": \"cricket\", \"7\": \"as\", \"8\": \"game\", \"9\": \"it\", \"10\": \"a\", \"11\": \"for\", \"12\": \"with\", \"13\": \"were\", \"14\": \"england\", \"15\": \"was\", \"16\": \"its\", \"17\": \"played\", \"18\": \"by\", \"19\": \"that\", \"20\": \"had\", \"21\": \"at\", \"22\": \"is\", \"23\": \"being\", \"24\": \"games\", \"25\": \"saw\", \"26\": \"they\", \"27\": \"new\", \"28\": \"australia\", \"29\": \"english\", \"30\": \"playing\", \"31\": \"first\", \"32\": \"an\", \"33\": \"be\", \"34\": \"between\", \"35\": \"from\", \"36\": \"technology\", \"37\": \"or\", \"38\": \"time\", \"39\": \"this\", \"40\": \"aristocracy\", \"41\": \"recorded\", \"42\": \"century\", \"43\": \"two\", \"44\": \"on\", \"45\": \"after\", \"46\": \"bowling\", \"47\": \"twenty\", \"48\": \"have\", \"49\": \"been\", \"50\": \"their\", \"51\": \"club\", \"52\": \"them\", \"53\": \"classes\", \"54\": \"teams\", \"55\": \"up\", \"56\": \"match\", \"57\": \"players\", \"58\": \"into\", \"59\": \"began\", \"60\": \"spread\", \"61\": \"south\", \"62\": \"international\", \"63\": \"only\", \"64\": \"edward\", \"65\": \"cricket\\\\u2019\", \"66\": \"word\", \"67\": \"ball\", \"68\": \"there\", \"69\": \"play\", \"70\": \"men\", \"71\": \"way\", \"72\": \"seen\", \"73\": \"side\", \"74\": \"best\", \"75\": \"become\", \"76\": \"staged\", \"77\": \"field\", \"78\": \"brought\", \"79\": \"now\", \"80\": \"laws\", \"81\": \"over\", \"82\": \"africa\", \"83\": \"test\", \"84\": \"one\", \"85\": \"olympics\", \"86\": \"nations\", \"87\": \"second\", \"88\": \"series\", \"89\": \"1970\\\\u2019s\", \"90\": \"worlds\", \"91\": \"world\", \"92\": \"umpires\", \"93\": \"history\", \"94\": \"particularly\", \"95\": \"born\", \"96\": \"iii\", \"97\": \"similar\", \"98\": \"his\", \"99\": \"during\", \"100\": \"invasion\", \"101\": \"sought\", \"102\": \"\\\\u2018creag\\\\u2019\", \"103\": \"then\", \"104\": \"other\", \"105\": \"found\", \"106\": \"gambling\", \"107\": \"working\", \"108\": \"attending\", \"109\": \"church\", \"110\": \"continued\", \"111\": \"became\", \"112\": \"growth\", \"113\": \"assembled\", \"114\": \"under\", \"115\": \"purses\", \"116\": \"\\\\u2018great\", \"117\": \"matches\\\\u2019\", \"118\": \"\\\\u2018\", \"119\": \"rural\", \"120\": \"workers\", \"121\": \"beginning\", \"122\": \"early\", \"123\": \"1700\\\\u2019s\", \"124\": \"class\", \"125\": \"employ\", \"126\": \"thus\", \"127\": \"who\", \"128\": \"london\", \"129\": \"north\", \"130\": \"lay\", \"131\": \"claim\", \"132\": \"matches\", \"133\": \"white\", \"134\": \"conduit\", \"135\": \"part\", \"136\": \"area\", \"137\": \"hambledon\", \"138\": \"where\", \"139\": \"spirit\", \"140\": \"1788\", \"141\": \"evolution\", \"142\": \"arm\", \"143\": \"see\", \"144\": \"use\", \"145\": \"techniques\", \"146\": \"went\", \"147\": \"out\", \"148\": \"reached\", \"149\": \"west\", \"150\": \"indies\", \"151\": \"india\", \"152\": \"zealand\", \"153\": \"australian\", \"154\": \"against\", \"155\": \"urn\", \"156\": \"sides\", \"157\": \"years\", \"158\": \"won\", \"159\": \"20\", \"160\": \"twentieth\", \"161\": \"crises\", \"162\": \"event\", \"163\": \"d\\\\u2019oliveira\", \"164\": \"coloured\", \"165\": \"day\", \"166\": \"packer\", \"167\": \"set\", \"168\": \"football\", \"169\": \"making\", \"170\": \"audience\", \"171\": \"has\", \"172\": \"whether\", \"173\": \"market\", \"174\": \"premier\", \"175\": \"league\", \"176\": \"biggest\", \"177\": \"will\", \"178\": \"murky\", \"179\": \"vague\", \"180\": \"exact\", \"181\": \"origins\", \"182\": \"believed\", \"183\": \"late\", \"184\": \"middle\", \"185\": \"ages\", \"186\": \"banned\", \"187\": \"1369\", \"188\": \"\\\\u2018pila\", \"189\": \"baculorea\\\\u2019\", \"190\": \"\\\\u2018club\", \"191\": \"ball\\\\u2019\", \"192\": \"known\", \"193\": \"he\", \"194\": \"distraction\", \"195\": \"war\", \"196\": \"effort\", \"197\": \"derek\", \"198\": \"birley\", \"199\": \"wonderful\", \"200\": \"book\", \"201\": \"\\\\u2018a\", \"202\": \"social\", \"203\": \"suggests\", \"204\": \"came\", \"205\": \"french\", \"206\": \"norman\", \"207\": \"\\\\u2018criquet\\\\u2019\", \"208\": \"dialect\", \"209\": \"name\", \"210\": \"variation\", \"211\": \"eradicate\", \"212\": \"record\", \"213\": \"derivative\", \"214\": \"creaget\", \"215\": \"1299\", \"216\": \"1300\", \"217\": \"royal\", \"218\": \"wardrobe\", \"219\": \"accounts\", \"220\": \"prince\", \"221\": \"ii\", \"222\": \"no\", \"223\": \"evidence\", \"224\": \"creag\", \"225\": \"same\", \"226\": \"criquet\", \"227\": \"links\", \"228\": \"are\", \"229\": \"too\", \"230\": \"tenuous\", \"231\": \"rarely\", \"232\": \"appear\", \"233\": \"any\", \"234\": \"records\", \"235\": \"unless\", \"236\": \"trying\", \"237\": \"eradicated\", \"238\": \"morally\", \"239\": \"degenerate\", \"240\": \"schoolboys\", \"241\": \"guildford\", \"242\": \"sixteenth\", \"243\": \"italian\", \"244\": \"dictionary\", \"245\": \"1598\", \"246\": \"1611\", \"247\": \"adults\", \"248\": \"prosecuted\", \"249\": \"instead\", \"250\": \"theme\", \"251\": \"1628\", \"252\": \"ten\", \"253\": \"fined\", \"254\": \"rather\", \"255\": \"than\", \"256\": \"service\", \"257\": \"also\", \"258\": \"make\", \"259\": \"confession\", \"260\": \"congregation\", \"261\": \"penance\", \"262\": \"evolve\", \"263\": \"amongst\", \"264\": \"central\", \"265\": \"particular\", \"266\": \"obvious\", \"267\": \"attributes\", \"268\": \"bet\", \"269\": \"outcomes\", \"270\": \"patronage\", \"271\": \"aristocrats\", \"272\": \"put\", \"273\": \"1696\", \"274\": \"great\", \"275\": \"sussex\", \"276\": \"eleven\", \"277\": \"fifty\", \"278\": \"guineas\", \"279\": \"apiece\\\\u2019\", \"280\": \"growing\", \"281\": \"both\", \"282\": \"within\", \"283\": \"upper\", \"284\": \"genuine\", \"285\": \"recreational\", \"286\": \"past\", \"287\": \"southern\", \"288\": \"counties\", \"289\": \"composite\", \"290\": \"period\", \"291\": \"crossing\", \"292\": \"divides\", \"293\": \"encouraged\", \"294\": \"nobility\", \"295\": \"patronizing\", \"296\": \"could\", \"297\": \"adept\", \"298\": \"employed\", \"299\": \"\\\\u2018hands\\\\u2019\", \"300\": \"travelling\", \"301\": \"can\", \"302\": \"cradle\", \"303\": \"islington\", \"304\": \"\\\\u2018field\", \"305\": \"keeper\\\\u2019\", \"306\": \"angel\", \"307\": \"inn\", \"308\": \"amenities\", \"309\": \"1718\", \"310\": \"law\", \"311\": \"courts\", \"312\": \"dispute\", \"313\": \"\\\\u2018cradle\", \"314\": \"hampshire\", \"315\": \"broad\", \"316\": \"down\", \"317\": \"halfpenny\", \"318\": \"assume\", \"319\": \"truly\", \"320\": \"skilful\", \"321\": \"scientific\", \"322\": \"character\", \"323\": \"which\", \"324\": \"possesses\", \"325\": \"\\\\u2019\", \"326\": \"immortalised\", \"327\": \"writing\", \"328\": \"john\", \"329\": \"nyren\", \"330\": \"captured\", \"331\": \"segregation\", \"332\": \"rich\", \"333\": \"varied\", \"334\": \"life\", \"335\": \"through\", \"336\": \"provincial\", \"337\": \"towns\", \"338\": \"grew\", \"339\": \"industrialization\", \"340\": \"yorkshire\", \"341\": \"1750\\\\u2019s\", \"342\": \"1744\", \"343\": \"codified\", \"344\": \"revised\", \"345\": \"marylebone\", \"346\": \"covered\", \"347\": \"length\", \"348\": \"pitch\", \"349\": \"distance\", \"350\": \"creases\", \"351\": \"wicket\", \"352\": \"size\", \"353\": \"weight\", \"354\": \"1760\", \"355\": \"replacing\", \"356\": \"main\", \"357\": \"deliver\", \"358\": \"various\", \"359\": \"lengths\", \"360\": \"utilised\", \"361\": \"bowlers\", \"362\": \"development\", \"363\": \"craft\", \"364\": \"batting\", \"365\": \"batters\", \"366\": \"respond\", \"367\": \"\\\\u2018straight\", \"368\": \"bat\\\\u2019\", \"369\": \"introduced\", \"370\": \"counter\", \"371\": \"old\", \"372\": \"bent\", \"373\": \"\\\\u2018hockey\", \"374\": \"stick\\\\u2019\", \"375\": \"style\", \"376\": \"bat\", \"377\": \"fashion\", \"378\": \"pictures\", \"379\": \"here\", \"380\": \"display\", \"381\": \"lords\", \"382\": \"museum\", \"383\": \"show\", \"384\": \"bats\", \"385\": \"global\", \"386\": \"britains\\\\u2019\", \"387\": \"imperialist\", \"388\": \"ambitions\", \"389\": \"navy\", \"390\": \"army\", \"391\": \"instrumental\", \"392\": \"colonies\", \"393\": \"america\", \"394\": \"1800\\\\u2019s\", \"395\": \"inception\", \"396\": \"colonization\", \"397\": \"19th\", \"398\": \"africaand\", \"399\": \"york\", \"400\": \"1844\", \"401\": \"canada\", \"402\": \"united\", \"403\": \"states\", \"404\": \"1868\", \"405\": \"aboriginal\", \"406\": \"toured\", \"407\": \"1877\", \"408\": \"begin\", \"409\": \"oldest\", \"410\": \"rivalry\", \"411\": \"1882\", \"412\": \"lost\", \"413\": \"mock\", \"414\": \"obituary\", \"415\": \"written\", \"416\": \"melbourne\", \"417\": \"ladies\", \"418\": \"burnt\", \"419\": \"bail\", \"420\": \"presented\", \"421\": \"captain\", \"422\": \"ashes\", \"423\": \"longest\", \"424\": \"running\", \"425\": \"saga\", \"426\": \"off\", \"427\": \"every\", \"428\": \"fabled\", \"429\": \"1889\", \"430\": \"third\", \"431\": \"nation\", \"432\": \"1900\", \"433\": \"made\", \"434\": \"appearance\", \"435\": \"france\", \"436\": \"although\", \"437\": \"interestingly\", \"438\": \"looks\", \"439\": \"if\", \"440\": \"may\", \"441\": \"re\", \"442\": \"admitted\", \"443\": \"shortest\", \"444\": \"form\", \"445\": \"1909\", \"446\": \"imperial\", \"447\": \"conference\", \"448\": \"formed\", \"449\": \"administrate\", \"450\": \"primarily\", \"451\": \"perspective\", \"452\": \"founder\", \"453\": \"members\", \"454\": \"before\", \"455\": \"ww\", \"456\": \"pakistan\", \"457\": \"joining\", \"458\": \"affiliate\", \"459\": \"like\", \"460\": \"sri\", \"461\": \"lanka\", \"462\": \"formerly\", \"463\": \"ceylon\", \"464\": \"zimababwe\", \"465\": \"bangladesh\", \"466\": \"toward\", \"467\": \"end\", \"468\": \"major\", \"469\": \"initially\", \"470\": \"bodyline\", \"471\": \"1932\", \"472\": \"33\", \"473\": \"englands\\\\u2019\", \"474\": \"method\", \"475\": \"countering\", \"476\": \"genius\", \"477\": \"don\", \"478\": \"bradman\", \"479\": \"lead\", \"480\": \"bowl\", \"481\": \"leg\", \"482\": \"short\", \"483\": \"pitched\", \"484\": \"australians\", \"485\": \"deemed\", \"486\": \"\\\\u2018not\", \"487\": \"such\", \"488\": \"proportions\", \"489\": \"threatened\", \"490\": \"take\", \"491\": \"political\", \"492\": \"action\", \"493\": \"so\", \"494\": \"disturbed\", \"495\": \"affair\", \"496\": \"blew\", \"497\": \"stage\", \"498\": \"refused\", \"499\": \"receive\", \"500\": \"team\", \"501\": \"cape\", \"502\": \"basil\", \"503\": \"racist\", \"504\": \"policies\", \"505\": \"cast\", \"506\": \"wilderness\", \"507\": \"return\", \"508\": \"release\", \"509\": \"nelson\", \"510\": \"mandela\", \"511\": \"institution\", \"512\": \"multi\", \"513\": \"racial\", \"514\": \"1960\\\\u2019s\", \"515\": \"70\\\\u2019s\", \"516\": \"introduction\", \"517\": \"single\", \"518\": \"innings\", \"519\": \"limited\", \"520\": \"these\", \"521\": \"proved\", \"522\": \"hugely\", \"523\": \"popular\", \"524\": \"1971\", \"525\": \"mid\", \"526\": \"media\", \"527\": \"mogul\", \"528\": \"kerry\", \"529\": \"bought\", \"530\": \"cricketers\", \"531\": \"clothing\", \"532\": \"took\", \"533\": \"establishment\", \"534\": \"legal\", \"535\": \"battle\", \"536\": \"right\", \"537\": \"host\", \"538\": \"televise\", \"539\": \"long\", \"540\": \"professionalising\", \"541\": \"allowing\", \"542\": \"living\", \"543\": \"wage\", \"544\": \"profession\", \"545\": \"innovation\", \"546\": \"developed\", \"547\": \"some\", \"548\": \"innovations\", \"549\": \"tennis\", \"550\": \"american\", \"551\": \"bring\", \"552\": \"better\", \"553\": \"decision\", \"554\": \"highlight\", \"555\": \"areas\", \"556\": \"interest\", \"557\": \"tv\", \"558\": \"slow\", \"559\": \"motion\", \"560\": \"replays\", \"561\": \"specialist\", \"562\": \"camera\", \"563\": \"angles\", \"564\": \"space\", \"565\": \"age\", \"566\": \"\\\\u2018stump\", \"567\": \"cams\\\\u2019\", \"568\": \"\\\\u2019hot\", \"569\": \"spots\\\\u2019\", \"570\": \"\\\\u2018hawk\", \"571\": \"eye\\\\u2019\", \"572\": \"derived\", \"573\": \"modern\", \"574\": \"warfare\", \"575\": \"improved\", \"576\": \"decison\", \"577\": \"remains\", \"578\": \"breakdowns\", \"579\": \"application\", \"580\": \"lack\", \"581\": \"uniform\", \"582\": \"roll\", \"583\": \"across\", \"584\": \"all\", \"585\": \"undermines\", \"586\": \"credibility\", \"587\": \"t20\", \"588\": \"rebirth\", \"589\": \"death\", \"590\": \"we\", \"591\": \"know\", \"592\": \"2000\\\\u2019s\", \"593\": \"literally\", \"594\": \"exploded\", \"595\": \"places\", \"596\": \"target\", \"597\": \"spectacularly\", \"598\": \"seized\", \"599\": \"upon\", \"600\": \"bcci\", \"601\": \"2007\", \"602\": \"cup\", \"603\": \"indian\", \"604\": \"modelled\", \"605\": \"competition\", \"606\": \"sporting\", \"607\": \"because\", \"608\": \"india\\\\u2019s\", \"609\": \"vast\", \"610\": \"population\", \"611\": \"sub\", \"612\": \"continent\", \"613\": \"marketplace\", \"614\": \"how\", \"615\": \"grows\", \"616\": \"remain\", \"617\": \"consumes\", \"618\": \"itself\", \"619\": \"overkill\", \"620\": \"goes\", \"621\": \"21st\", \"622\": \"tell\"}',\n",
              " 'word_index': '{\"the\": 1, \"in\": 2, \"of\": 3, \"and\": 4, \"to\": 5, \"cricket\": 6, \"as\": 7, \"game\": 8, \"it\": 9, \"a\": 10, \"for\": 11, \"with\": 12, \"were\": 13, \"england\": 14, \"was\": 15, \"its\": 16, \"played\": 17, \"by\": 18, \"that\": 19, \"had\": 20, \"at\": 21, \"is\": 22, \"being\": 23, \"games\": 24, \"saw\": 25, \"they\": 26, \"new\": 27, \"australia\": 28, \"english\": 29, \"playing\": 30, \"first\": 31, \"an\": 32, \"be\": 33, \"between\": 34, \"from\": 35, \"technology\": 36, \"or\": 37, \"time\": 38, \"this\": 39, \"aristocracy\": 40, \"recorded\": 41, \"century\": 42, \"two\": 43, \"on\": 44, \"after\": 45, \"bowling\": 46, \"twenty\": 47, \"have\": 48, \"been\": 49, \"their\": 50, \"club\": 51, \"them\": 52, \"classes\": 53, \"teams\": 54, \"up\": 55, \"match\": 56, \"players\": 57, \"into\": 58, \"began\": 59, \"spread\": 60, \"south\": 61, \"international\": 62, \"only\": 63, \"edward\": 64, \"cricket\\\\u2019\": 65, \"word\": 66, \"ball\": 67, \"there\": 68, \"play\": 69, \"men\": 70, \"way\": 71, \"seen\": 72, \"side\": 73, \"best\": 74, \"become\": 75, \"staged\": 76, \"field\": 77, \"brought\": 78, \"now\": 79, \"laws\": 80, \"over\": 81, \"africa\": 82, \"test\": 83, \"one\": 84, \"olympics\": 85, \"nations\": 86, \"second\": 87, \"series\": 88, \"1970\\\\u2019s\": 89, \"worlds\": 90, \"world\": 91, \"umpires\": 92, \"history\": 93, \"particularly\": 94, \"born\": 95, \"iii\": 96, \"similar\": 97, \"his\": 98, \"during\": 99, \"invasion\": 100, \"sought\": 101, \"\\\\u2018creag\\\\u2019\": 102, \"then\": 103, \"other\": 104, \"found\": 105, \"gambling\": 106, \"working\": 107, \"attending\": 108, \"church\": 109, \"continued\": 110, \"became\": 111, \"growth\": 112, \"assembled\": 113, \"under\": 114, \"purses\": 115, \"\\\\u2018great\": 116, \"matches\\\\u2019\": 117, \"\\\\u2018\": 118, \"rural\": 119, \"workers\": 120, \"beginning\": 121, \"early\": 122, \"1700\\\\u2019s\": 123, \"class\": 124, \"employ\": 125, \"thus\": 126, \"who\": 127, \"london\": 128, \"north\": 129, \"lay\": 130, \"claim\": 131, \"matches\": 132, \"white\": 133, \"conduit\": 134, \"part\": 135, \"area\": 136, \"hambledon\": 137, \"where\": 138, \"spirit\": 139, \"1788\": 140, \"evolution\": 141, \"arm\": 142, \"see\": 143, \"use\": 144, \"techniques\": 145, \"went\": 146, \"out\": 147, \"reached\": 148, \"west\": 149, \"indies\": 150, \"india\": 151, \"zealand\": 152, \"australian\": 153, \"against\": 154, \"urn\": 155, \"sides\": 156, \"years\": 157, \"won\": 158, \"20\": 159, \"twentieth\": 160, \"crises\": 161, \"event\": 162, \"d\\\\u2019oliveira\": 163, \"coloured\": 164, \"day\": 165, \"packer\": 166, \"set\": 167, \"football\": 168, \"making\": 169, \"audience\": 170, \"has\": 171, \"whether\": 172, \"market\": 173, \"premier\": 174, \"league\": 175, \"biggest\": 176, \"will\": 177, \"murky\": 178, \"vague\": 179, \"exact\": 180, \"origins\": 181, \"believed\": 182, \"late\": 183, \"middle\": 184, \"ages\": 185, \"banned\": 186, \"1369\": 187, \"\\\\u2018pila\": 188, \"baculorea\\\\u2019\": 189, \"\\\\u2018club\": 190, \"ball\\\\u2019\": 191, \"known\": 192, \"he\": 193, \"distraction\": 194, \"war\": 195, \"effort\": 196, \"derek\": 197, \"birley\": 198, \"wonderful\": 199, \"book\": 200, \"\\\\u2018a\": 201, \"social\": 202, \"suggests\": 203, \"came\": 204, \"french\": 205, \"norman\": 206, \"\\\\u2018criquet\\\\u2019\": 207, \"dialect\": 208, \"name\": 209, \"variation\": 210, \"eradicate\": 211, \"record\": 212, \"derivative\": 213, \"creaget\": 214, \"1299\": 215, \"1300\": 216, \"royal\": 217, \"wardrobe\": 218, \"accounts\": 219, \"prince\": 220, \"ii\": 221, \"no\": 222, \"evidence\": 223, \"creag\": 224, \"same\": 225, \"criquet\": 226, \"links\": 227, \"are\": 228, \"too\": 229, \"tenuous\": 230, \"rarely\": 231, \"appear\": 232, \"any\": 233, \"records\": 234, \"unless\": 235, \"trying\": 236, \"eradicated\": 237, \"morally\": 238, \"degenerate\": 239, \"schoolboys\": 240, \"guildford\": 241, \"sixteenth\": 242, \"italian\": 243, \"dictionary\": 244, \"1598\": 245, \"1611\": 246, \"adults\": 247, \"prosecuted\": 248, \"instead\": 249, \"theme\": 250, \"1628\": 251, \"ten\": 252, \"fined\": 253, \"rather\": 254, \"than\": 255, \"service\": 256, \"also\": 257, \"make\": 258, \"confession\": 259, \"congregation\": 260, \"penance\": 261, \"evolve\": 262, \"amongst\": 263, \"central\": 264, \"particular\": 265, \"obvious\": 266, \"attributes\": 267, \"bet\": 268, \"outcomes\": 269, \"patronage\": 270, \"aristocrats\": 271, \"put\": 272, \"1696\": 273, \"great\": 274, \"sussex\": 275, \"eleven\": 276, \"fifty\": 277, \"guineas\": 278, \"apiece\\\\u2019\": 279, \"growing\": 280, \"both\": 281, \"within\": 282, \"upper\": 283, \"genuine\": 284, \"recreational\": 285, \"past\": 286, \"southern\": 287, \"counties\": 288, \"composite\": 289, \"period\": 290, \"crossing\": 291, \"divides\": 292, \"encouraged\": 293, \"nobility\": 294, \"patronizing\": 295, \"could\": 296, \"adept\": 297, \"employed\": 298, \"\\\\u2018hands\\\\u2019\": 299, \"travelling\": 300, \"can\": 301, \"cradle\": 302, \"islington\": 303, \"\\\\u2018field\": 304, \"keeper\\\\u2019\": 305, \"angel\": 306, \"inn\": 307, \"amenities\": 308, \"1718\": 309, \"law\": 310, \"courts\": 311, \"dispute\": 312, \"\\\\u2018cradle\": 313, \"hampshire\": 314, \"broad\": 315, \"down\": 316, \"halfpenny\": 317, \"assume\": 318, \"truly\": 319, \"skilful\": 320, \"scientific\": 321, \"character\": 322, \"which\": 323, \"possesses\": 324, \"\\\\u2019\": 325, \"immortalised\": 326, \"writing\": 327, \"john\": 328, \"nyren\": 329, \"captured\": 330, \"segregation\": 331, \"rich\": 332, \"varied\": 333, \"life\": 334, \"through\": 335, \"provincial\": 336, \"towns\": 337, \"grew\": 338, \"industrialization\": 339, \"yorkshire\": 340, \"1750\\\\u2019s\": 341, \"1744\": 342, \"codified\": 343, \"revised\": 344, \"marylebone\": 345, \"covered\": 346, \"length\": 347, \"pitch\": 348, \"distance\": 349, \"creases\": 350, \"wicket\": 351, \"size\": 352, \"weight\": 353, \"1760\": 354, \"replacing\": 355, \"main\": 356, \"deliver\": 357, \"various\": 358, \"lengths\": 359, \"utilised\": 360, \"bowlers\": 361, \"development\": 362, \"craft\": 363, \"batting\": 364, \"batters\": 365, \"respond\": 366, \"\\\\u2018straight\": 367, \"bat\\\\u2019\": 368, \"introduced\": 369, \"counter\": 370, \"old\": 371, \"bent\": 372, \"\\\\u2018hockey\": 373, \"stick\\\\u2019\": 374, \"style\": 375, \"bat\": 376, \"fashion\": 377, \"pictures\": 378, \"here\": 379, \"display\": 380, \"lords\": 381, \"museum\": 382, \"show\": 383, \"bats\": 384, \"global\": 385, \"britains\\\\u2019\": 386, \"imperialist\": 387, \"ambitions\": 388, \"navy\": 389, \"army\": 390, \"instrumental\": 391, \"colonies\": 392, \"america\": 393, \"1800\\\\u2019s\": 394, \"inception\": 395, \"colonization\": 396, \"19th\": 397, \"africaand\": 398, \"york\": 399, \"1844\": 400, \"canada\": 401, \"united\": 402, \"states\": 403, \"1868\": 404, \"aboriginal\": 405, \"toured\": 406, \"1877\": 407, \"begin\": 408, \"oldest\": 409, \"rivalry\": 410, \"1882\": 411, \"lost\": 412, \"mock\": 413, \"obituary\": 414, \"written\": 415, \"melbourne\": 416, \"ladies\": 417, \"burnt\": 418, \"bail\": 419, \"presented\": 420, \"captain\": 421, \"ashes\": 422, \"longest\": 423, \"running\": 424, \"saga\": 425, \"off\": 426, \"every\": 427, \"fabled\": 428, \"1889\": 429, \"third\": 430, \"nation\": 431, \"1900\": 432, \"made\": 433, \"appearance\": 434, \"france\": 435, \"although\": 436, \"interestingly\": 437, \"looks\": 438, \"if\": 439, \"may\": 440, \"re\": 441, \"admitted\": 442, \"shortest\": 443, \"form\": 444, \"1909\": 445, \"imperial\": 446, \"conference\": 447, \"formed\": 448, \"administrate\": 449, \"primarily\": 450, \"perspective\": 451, \"founder\": 452, \"members\": 453, \"before\": 454, \"ww\": 455, \"pakistan\": 456, \"joining\": 457, \"affiliate\": 458, \"like\": 459, \"sri\": 460, \"lanka\": 461, \"formerly\": 462, \"ceylon\": 463, \"zimababwe\": 464, \"bangladesh\": 465, \"toward\": 466, \"end\": 467, \"major\": 468, \"initially\": 469, \"bodyline\": 470, \"1932\": 471, \"33\": 472, \"englands\\\\u2019\": 473, \"method\": 474, \"countering\": 475, \"genius\": 476, \"don\": 477, \"bradman\": 478, \"lead\": 479, \"bowl\": 480, \"leg\": 481, \"short\": 482, \"pitched\": 483, \"australians\": 484, \"deemed\": 485, \"\\\\u2018not\": 486, \"such\": 487, \"proportions\": 488, \"threatened\": 489, \"take\": 490, \"political\": 491, \"action\": 492, \"so\": 493, \"disturbed\": 494, \"affair\": 495, \"blew\": 496, \"stage\": 497, \"refused\": 498, \"receive\": 499, \"team\": 500, \"cape\": 501, \"basil\": 502, \"racist\": 503, \"policies\": 504, \"cast\": 505, \"wilderness\": 506, \"return\": 507, \"release\": 508, \"nelson\": 509, \"mandela\": 510, \"institution\": 511, \"multi\": 512, \"racial\": 513, \"1960\\\\u2019s\": 514, \"70\\\\u2019s\": 515, \"introduction\": 516, \"single\": 517, \"innings\": 518, \"limited\": 519, \"these\": 520, \"proved\": 521, \"hugely\": 522, \"popular\": 523, \"1971\": 524, \"mid\": 525, \"media\": 526, \"mogul\": 527, \"kerry\": 528, \"bought\": 529, \"cricketers\": 530, \"clothing\": 531, \"took\": 532, \"establishment\": 533, \"legal\": 534, \"battle\": 535, \"right\": 536, \"host\": 537, \"televise\": 538, \"long\": 539, \"professionalising\": 540, \"allowing\": 541, \"living\": 542, \"wage\": 543, \"profession\": 544, \"innovation\": 545, \"developed\": 546, \"some\": 547, \"innovations\": 548, \"tennis\": 549, \"american\": 550, \"bring\": 551, \"better\": 552, \"decision\": 553, \"highlight\": 554, \"areas\": 555, \"interest\": 556, \"tv\": 557, \"slow\": 558, \"motion\": 559, \"replays\": 560, \"specialist\": 561, \"camera\": 562, \"angles\": 563, \"space\": 564, \"age\": 565, \"\\\\u2018stump\": 566, \"cams\\\\u2019\": 567, \"\\\\u2019hot\": 568, \"spots\\\\u2019\": 569, \"\\\\u2018hawk\": 570, \"eye\\\\u2019\": 571, \"derived\": 572, \"modern\": 573, \"warfare\": 574, \"improved\": 575, \"decison\": 576, \"remains\": 577, \"breakdowns\": 578, \"application\": 579, \"lack\": 580, \"uniform\": 581, \"roll\": 582, \"across\": 583, \"all\": 584, \"undermines\": 585, \"credibility\": 586, \"t20\": 587, \"rebirth\": 588, \"death\": 589, \"we\": 590, \"know\": 591, \"2000\\\\u2019s\": 592, \"literally\": 593, \"exploded\": 594, \"places\": 595, \"target\": 596, \"spectacularly\": 597, \"seized\": 598, \"upon\": 599, \"bcci\": 600, \"2007\": 601, \"cup\": 602, \"indian\": 603, \"modelled\": 604, \"competition\": 605, \"sporting\": 606, \"because\": 607, \"india\\\\u2019s\": 608, \"vast\": 609, \"population\": 610, \"sub\": 611, \"continent\": 612, \"marketplace\": 613, \"how\": 614, \"grows\": 615, \"remain\": 616, \"consumes\": 617, \"itself\": 618, \"overkill\": 619, \"goes\": 620, \"21st\": 621, \"tell\": 622}'}"
            ]
          },
          "metadata": {},
          "execution_count": 6
        }
      ]
    },
    {
      "cell_type": "code",
      "source": [
        "tokenizer.word_index   # display the indexes of words"
      ],
      "metadata": {
        "id": "lmzDg64tANue",
        "colab": {
          "base_uri": "https://localhost:8080/"
        },
        "outputId": "5892afb9-a795-46ad-f3b1-9c8a0a88d64b"
      },
      "execution_count": null,
      "outputs": [
        {
          "output_type": "execute_result",
          "data": {
            "text/plain": [
              "{'the': 1,\n",
              " 'in': 2,\n",
              " 'of': 3,\n",
              " 'and': 4,\n",
              " 'to': 5,\n",
              " 'cricket': 6,\n",
              " 'as': 7,\n",
              " 'game': 8,\n",
              " 'it': 9,\n",
              " 'a': 10,\n",
              " 'for': 11,\n",
              " 'with': 12,\n",
              " 'were': 13,\n",
              " 'england': 14,\n",
              " 'was': 15,\n",
              " 'its': 16,\n",
              " 'played': 17,\n",
              " 'by': 18,\n",
              " 'that': 19,\n",
              " 'had': 20,\n",
              " 'at': 21,\n",
              " 'is': 22,\n",
              " 'being': 23,\n",
              " 'games': 24,\n",
              " 'saw': 25,\n",
              " 'they': 26,\n",
              " 'new': 27,\n",
              " 'australia': 28,\n",
              " 'english': 29,\n",
              " 'playing': 30,\n",
              " 'first': 31,\n",
              " 'an': 32,\n",
              " 'be': 33,\n",
              " 'between': 34,\n",
              " 'from': 35,\n",
              " 'technology': 36,\n",
              " 'or': 37,\n",
              " 'time': 38,\n",
              " 'this': 39,\n",
              " 'aristocracy': 40,\n",
              " 'recorded': 41,\n",
              " 'century': 42,\n",
              " 'two': 43,\n",
              " 'on': 44,\n",
              " 'after': 45,\n",
              " 'bowling': 46,\n",
              " 'twenty': 47,\n",
              " 'have': 48,\n",
              " 'been': 49,\n",
              " 'their': 50,\n",
              " 'club': 51,\n",
              " 'them': 52,\n",
              " 'classes': 53,\n",
              " 'teams': 54,\n",
              " 'up': 55,\n",
              " 'match': 56,\n",
              " 'players': 57,\n",
              " 'into': 58,\n",
              " 'began': 59,\n",
              " 'spread': 60,\n",
              " 'south': 61,\n",
              " 'international': 62,\n",
              " 'only': 63,\n",
              " 'edward': 64,\n",
              " 'cricket’': 65,\n",
              " 'word': 66,\n",
              " 'ball': 67,\n",
              " 'there': 68,\n",
              " 'play': 69,\n",
              " 'men': 70,\n",
              " 'way': 71,\n",
              " 'seen': 72,\n",
              " 'side': 73,\n",
              " 'best': 74,\n",
              " 'become': 75,\n",
              " 'staged': 76,\n",
              " 'field': 77,\n",
              " 'brought': 78,\n",
              " 'now': 79,\n",
              " 'laws': 80,\n",
              " 'over': 81,\n",
              " 'africa': 82,\n",
              " 'test': 83,\n",
              " 'one': 84,\n",
              " 'olympics': 85,\n",
              " 'nations': 86,\n",
              " 'second': 87,\n",
              " 'series': 88,\n",
              " '1970’s': 89,\n",
              " 'worlds': 90,\n",
              " 'world': 91,\n",
              " 'umpires': 92,\n",
              " 'history': 93,\n",
              " 'particularly': 94,\n",
              " 'born': 95,\n",
              " 'iii': 96,\n",
              " 'similar': 97,\n",
              " 'his': 98,\n",
              " 'during': 99,\n",
              " 'invasion': 100,\n",
              " 'sought': 101,\n",
              " '‘creag’': 102,\n",
              " 'then': 103,\n",
              " 'other': 104,\n",
              " 'found': 105,\n",
              " 'gambling': 106,\n",
              " 'working': 107,\n",
              " 'attending': 108,\n",
              " 'church': 109,\n",
              " 'continued': 110,\n",
              " 'became': 111,\n",
              " 'growth': 112,\n",
              " 'assembled': 113,\n",
              " 'under': 114,\n",
              " 'purses': 115,\n",
              " '‘great': 116,\n",
              " 'matches’': 117,\n",
              " '‘': 118,\n",
              " 'rural': 119,\n",
              " 'workers': 120,\n",
              " 'beginning': 121,\n",
              " 'early': 122,\n",
              " '1700’s': 123,\n",
              " 'class': 124,\n",
              " 'employ': 125,\n",
              " 'thus': 126,\n",
              " 'who': 127,\n",
              " 'london': 128,\n",
              " 'north': 129,\n",
              " 'lay': 130,\n",
              " 'claim': 131,\n",
              " 'matches': 132,\n",
              " 'white': 133,\n",
              " 'conduit': 134,\n",
              " 'part': 135,\n",
              " 'area': 136,\n",
              " 'hambledon': 137,\n",
              " 'where': 138,\n",
              " 'spirit': 139,\n",
              " '1788': 140,\n",
              " 'evolution': 141,\n",
              " 'arm': 142,\n",
              " 'see': 143,\n",
              " 'use': 144,\n",
              " 'techniques': 145,\n",
              " 'went': 146,\n",
              " 'out': 147,\n",
              " 'reached': 148,\n",
              " 'west': 149,\n",
              " 'indies': 150,\n",
              " 'india': 151,\n",
              " 'zealand': 152,\n",
              " 'australian': 153,\n",
              " 'against': 154,\n",
              " 'urn': 155,\n",
              " 'sides': 156,\n",
              " 'years': 157,\n",
              " 'won': 158,\n",
              " '20': 159,\n",
              " 'twentieth': 160,\n",
              " 'crises': 161,\n",
              " 'event': 162,\n",
              " 'd’oliveira': 163,\n",
              " 'coloured': 164,\n",
              " 'day': 165,\n",
              " 'packer': 166,\n",
              " 'set': 167,\n",
              " 'football': 168,\n",
              " 'making': 169,\n",
              " 'audience': 170,\n",
              " 'has': 171,\n",
              " 'whether': 172,\n",
              " 'market': 173,\n",
              " 'premier': 174,\n",
              " 'league': 175,\n",
              " 'biggest': 176,\n",
              " 'will': 177,\n",
              " 'murky': 178,\n",
              " 'vague': 179,\n",
              " 'exact': 180,\n",
              " 'origins': 181,\n",
              " 'believed': 182,\n",
              " 'late': 183,\n",
              " 'middle': 184,\n",
              " 'ages': 185,\n",
              " 'banned': 186,\n",
              " '1369': 187,\n",
              " '‘pila': 188,\n",
              " 'baculorea’': 189,\n",
              " '‘club': 190,\n",
              " 'ball’': 191,\n",
              " 'known': 192,\n",
              " 'he': 193,\n",
              " 'distraction': 194,\n",
              " 'war': 195,\n",
              " 'effort': 196,\n",
              " 'derek': 197,\n",
              " 'birley': 198,\n",
              " 'wonderful': 199,\n",
              " 'book': 200,\n",
              " '‘a': 201,\n",
              " 'social': 202,\n",
              " 'suggests': 203,\n",
              " 'came': 204,\n",
              " 'french': 205,\n",
              " 'norman': 206,\n",
              " '‘criquet’': 207,\n",
              " 'dialect': 208,\n",
              " 'name': 209,\n",
              " 'variation': 210,\n",
              " 'eradicate': 211,\n",
              " 'record': 212,\n",
              " 'derivative': 213,\n",
              " 'creaget': 214,\n",
              " '1299': 215,\n",
              " '1300': 216,\n",
              " 'royal': 217,\n",
              " 'wardrobe': 218,\n",
              " 'accounts': 219,\n",
              " 'prince': 220,\n",
              " 'ii': 221,\n",
              " 'no': 222,\n",
              " 'evidence': 223,\n",
              " 'creag': 224,\n",
              " 'same': 225,\n",
              " 'criquet': 226,\n",
              " 'links': 227,\n",
              " 'are': 228,\n",
              " 'too': 229,\n",
              " 'tenuous': 230,\n",
              " 'rarely': 231,\n",
              " 'appear': 232,\n",
              " 'any': 233,\n",
              " 'records': 234,\n",
              " 'unless': 235,\n",
              " 'trying': 236,\n",
              " 'eradicated': 237,\n",
              " 'morally': 238,\n",
              " 'degenerate': 239,\n",
              " 'schoolboys': 240,\n",
              " 'guildford': 241,\n",
              " 'sixteenth': 242,\n",
              " 'italian': 243,\n",
              " 'dictionary': 244,\n",
              " '1598': 245,\n",
              " '1611': 246,\n",
              " 'adults': 247,\n",
              " 'prosecuted': 248,\n",
              " 'instead': 249,\n",
              " 'theme': 250,\n",
              " '1628': 251,\n",
              " 'ten': 252,\n",
              " 'fined': 253,\n",
              " 'rather': 254,\n",
              " 'than': 255,\n",
              " 'service': 256,\n",
              " 'also': 257,\n",
              " 'make': 258,\n",
              " 'confession': 259,\n",
              " 'congregation': 260,\n",
              " 'penance': 261,\n",
              " 'evolve': 262,\n",
              " 'amongst': 263,\n",
              " 'central': 264,\n",
              " 'particular': 265,\n",
              " 'obvious': 266,\n",
              " 'attributes': 267,\n",
              " 'bet': 268,\n",
              " 'outcomes': 269,\n",
              " 'patronage': 270,\n",
              " 'aristocrats': 271,\n",
              " 'put': 272,\n",
              " '1696': 273,\n",
              " 'great': 274,\n",
              " 'sussex': 275,\n",
              " 'eleven': 276,\n",
              " 'fifty': 277,\n",
              " 'guineas': 278,\n",
              " 'apiece’': 279,\n",
              " 'growing': 280,\n",
              " 'both': 281,\n",
              " 'within': 282,\n",
              " 'upper': 283,\n",
              " 'genuine': 284,\n",
              " 'recreational': 285,\n",
              " 'past': 286,\n",
              " 'southern': 287,\n",
              " 'counties': 288,\n",
              " 'composite': 289,\n",
              " 'period': 290,\n",
              " 'crossing': 291,\n",
              " 'divides': 292,\n",
              " 'encouraged': 293,\n",
              " 'nobility': 294,\n",
              " 'patronizing': 295,\n",
              " 'could': 296,\n",
              " 'adept': 297,\n",
              " 'employed': 298,\n",
              " '‘hands’': 299,\n",
              " 'travelling': 300,\n",
              " 'can': 301,\n",
              " 'cradle': 302,\n",
              " 'islington': 303,\n",
              " '‘field': 304,\n",
              " 'keeper’': 305,\n",
              " 'angel': 306,\n",
              " 'inn': 307,\n",
              " 'amenities': 308,\n",
              " '1718': 309,\n",
              " 'law': 310,\n",
              " 'courts': 311,\n",
              " 'dispute': 312,\n",
              " '‘cradle': 313,\n",
              " 'hampshire': 314,\n",
              " 'broad': 315,\n",
              " 'down': 316,\n",
              " 'halfpenny': 317,\n",
              " 'assume': 318,\n",
              " 'truly': 319,\n",
              " 'skilful': 320,\n",
              " 'scientific': 321,\n",
              " 'character': 322,\n",
              " 'which': 323,\n",
              " 'possesses': 324,\n",
              " '’': 325,\n",
              " 'immortalised': 326,\n",
              " 'writing': 327,\n",
              " 'john': 328,\n",
              " 'nyren': 329,\n",
              " 'captured': 330,\n",
              " 'segregation': 331,\n",
              " 'rich': 332,\n",
              " 'varied': 333,\n",
              " 'life': 334,\n",
              " 'through': 335,\n",
              " 'provincial': 336,\n",
              " 'towns': 337,\n",
              " 'grew': 338,\n",
              " 'industrialization': 339,\n",
              " 'yorkshire': 340,\n",
              " '1750’s': 341,\n",
              " '1744': 342,\n",
              " 'codified': 343,\n",
              " 'revised': 344,\n",
              " 'marylebone': 345,\n",
              " 'covered': 346,\n",
              " 'length': 347,\n",
              " 'pitch': 348,\n",
              " 'distance': 349,\n",
              " 'creases': 350,\n",
              " 'wicket': 351,\n",
              " 'size': 352,\n",
              " 'weight': 353,\n",
              " '1760': 354,\n",
              " 'replacing': 355,\n",
              " 'main': 356,\n",
              " 'deliver': 357,\n",
              " 'various': 358,\n",
              " 'lengths': 359,\n",
              " 'utilised': 360,\n",
              " 'bowlers': 361,\n",
              " 'development': 362,\n",
              " 'craft': 363,\n",
              " 'batting': 364,\n",
              " 'batters': 365,\n",
              " 'respond': 366,\n",
              " '‘straight': 367,\n",
              " 'bat’': 368,\n",
              " 'introduced': 369,\n",
              " 'counter': 370,\n",
              " 'old': 371,\n",
              " 'bent': 372,\n",
              " '‘hockey': 373,\n",
              " 'stick’': 374,\n",
              " 'style': 375,\n",
              " 'bat': 376,\n",
              " 'fashion': 377,\n",
              " 'pictures': 378,\n",
              " 'here': 379,\n",
              " 'display': 380,\n",
              " 'lords': 381,\n",
              " 'museum': 382,\n",
              " 'show': 383,\n",
              " 'bats': 384,\n",
              " 'global': 385,\n",
              " 'britains’': 386,\n",
              " 'imperialist': 387,\n",
              " 'ambitions': 388,\n",
              " 'navy': 389,\n",
              " 'army': 390,\n",
              " 'instrumental': 391,\n",
              " 'colonies': 392,\n",
              " 'america': 393,\n",
              " '1800’s': 394,\n",
              " 'inception': 395,\n",
              " 'colonization': 396,\n",
              " '19th': 397,\n",
              " 'africaand': 398,\n",
              " 'york': 399,\n",
              " '1844': 400,\n",
              " 'canada': 401,\n",
              " 'united': 402,\n",
              " 'states': 403,\n",
              " '1868': 404,\n",
              " 'aboriginal': 405,\n",
              " 'toured': 406,\n",
              " '1877': 407,\n",
              " 'begin': 408,\n",
              " 'oldest': 409,\n",
              " 'rivalry': 410,\n",
              " '1882': 411,\n",
              " 'lost': 412,\n",
              " 'mock': 413,\n",
              " 'obituary': 414,\n",
              " 'written': 415,\n",
              " 'melbourne': 416,\n",
              " 'ladies': 417,\n",
              " 'burnt': 418,\n",
              " 'bail': 419,\n",
              " 'presented': 420,\n",
              " 'captain': 421,\n",
              " 'ashes': 422,\n",
              " 'longest': 423,\n",
              " 'running': 424,\n",
              " 'saga': 425,\n",
              " 'off': 426,\n",
              " 'every': 427,\n",
              " 'fabled': 428,\n",
              " '1889': 429,\n",
              " 'third': 430,\n",
              " 'nation': 431,\n",
              " '1900': 432,\n",
              " 'made': 433,\n",
              " 'appearance': 434,\n",
              " 'france': 435,\n",
              " 'although': 436,\n",
              " 'interestingly': 437,\n",
              " 'looks': 438,\n",
              " 'if': 439,\n",
              " 'may': 440,\n",
              " 're': 441,\n",
              " 'admitted': 442,\n",
              " 'shortest': 443,\n",
              " 'form': 444,\n",
              " '1909': 445,\n",
              " 'imperial': 446,\n",
              " 'conference': 447,\n",
              " 'formed': 448,\n",
              " 'administrate': 449,\n",
              " 'primarily': 450,\n",
              " 'perspective': 451,\n",
              " 'founder': 452,\n",
              " 'members': 453,\n",
              " 'before': 454,\n",
              " 'ww': 455,\n",
              " 'pakistan': 456,\n",
              " 'joining': 457,\n",
              " 'affiliate': 458,\n",
              " 'like': 459,\n",
              " 'sri': 460,\n",
              " 'lanka': 461,\n",
              " 'formerly': 462,\n",
              " 'ceylon': 463,\n",
              " 'zimababwe': 464,\n",
              " 'bangladesh': 465,\n",
              " 'toward': 466,\n",
              " 'end': 467,\n",
              " 'major': 468,\n",
              " 'initially': 469,\n",
              " 'bodyline': 470,\n",
              " '1932': 471,\n",
              " '33': 472,\n",
              " 'englands’': 473,\n",
              " 'method': 474,\n",
              " 'countering': 475,\n",
              " 'genius': 476,\n",
              " 'don': 477,\n",
              " 'bradman': 478,\n",
              " 'lead': 479,\n",
              " 'bowl': 480,\n",
              " 'leg': 481,\n",
              " 'short': 482,\n",
              " 'pitched': 483,\n",
              " 'australians': 484,\n",
              " 'deemed': 485,\n",
              " '‘not': 486,\n",
              " 'such': 487,\n",
              " 'proportions': 488,\n",
              " 'threatened': 489,\n",
              " 'take': 490,\n",
              " 'political': 491,\n",
              " 'action': 492,\n",
              " 'so': 493,\n",
              " 'disturbed': 494,\n",
              " 'affair': 495,\n",
              " 'blew': 496,\n",
              " 'stage': 497,\n",
              " 'refused': 498,\n",
              " 'receive': 499,\n",
              " 'team': 500,\n",
              " 'cape': 501,\n",
              " 'basil': 502,\n",
              " 'racist': 503,\n",
              " 'policies': 504,\n",
              " 'cast': 505,\n",
              " 'wilderness': 506,\n",
              " 'return': 507,\n",
              " 'release': 508,\n",
              " 'nelson': 509,\n",
              " 'mandela': 510,\n",
              " 'institution': 511,\n",
              " 'multi': 512,\n",
              " 'racial': 513,\n",
              " '1960’s': 514,\n",
              " '70’s': 515,\n",
              " 'introduction': 516,\n",
              " 'single': 517,\n",
              " 'innings': 518,\n",
              " 'limited': 519,\n",
              " 'these': 520,\n",
              " 'proved': 521,\n",
              " 'hugely': 522,\n",
              " 'popular': 523,\n",
              " '1971': 524,\n",
              " 'mid': 525,\n",
              " 'media': 526,\n",
              " 'mogul': 527,\n",
              " 'kerry': 528,\n",
              " 'bought': 529,\n",
              " 'cricketers': 530,\n",
              " 'clothing': 531,\n",
              " 'took': 532,\n",
              " 'establishment': 533,\n",
              " 'legal': 534,\n",
              " 'battle': 535,\n",
              " 'right': 536,\n",
              " 'host': 537,\n",
              " 'televise': 538,\n",
              " 'long': 539,\n",
              " 'professionalising': 540,\n",
              " 'allowing': 541,\n",
              " 'living': 542,\n",
              " 'wage': 543,\n",
              " 'profession': 544,\n",
              " 'innovation': 545,\n",
              " 'developed': 546,\n",
              " 'some': 547,\n",
              " 'innovations': 548,\n",
              " 'tennis': 549,\n",
              " 'american': 550,\n",
              " 'bring': 551,\n",
              " 'better': 552,\n",
              " 'decision': 553,\n",
              " 'highlight': 554,\n",
              " 'areas': 555,\n",
              " 'interest': 556,\n",
              " 'tv': 557,\n",
              " 'slow': 558,\n",
              " 'motion': 559,\n",
              " 'replays': 560,\n",
              " 'specialist': 561,\n",
              " 'camera': 562,\n",
              " 'angles': 563,\n",
              " 'space': 564,\n",
              " 'age': 565,\n",
              " '‘stump': 566,\n",
              " 'cams’': 567,\n",
              " '’hot': 568,\n",
              " 'spots’': 569,\n",
              " '‘hawk': 570,\n",
              " 'eye’': 571,\n",
              " 'derived': 572,\n",
              " 'modern': 573,\n",
              " 'warfare': 574,\n",
              " 'improved': 575,\n",
              " 'decison': 576,\n",
              " 'remains': 577,\n",
              " 'breakdowns': 578,\n",
              " 'application': 579,\n",
              " 'lack': 580,\n",
              " 'uniform': 581,\n",
              " 'roll': 582,\n",
              " 'across': 583,\n",
              " 'all': 584,\n",
              " 'undermines': 585,\n",
              " 'credibility': 586,\n",
              " 't20': 587,\n",
              " 'rebirth': 588,\n",
              " 'death': 589,\n",
              " 'we': 590,\n",
              " 'know': 591,\n",
              " '2000’s': 592,\n",
              " 'literally': 593,\n",
              " 'exploded': 594,\n",
              " 'places': 595,\n",
              " 'target': 596,\n",
              " 'spectacularly': 597,\n",
              " 'seized': 598,\n",
              " 'upon': 599,\n",
              " 'bcci': 600,\n",
              " '2007': 601,\n",
              " 'cup': 602,\n",
              " 'indian': 603,\n",
              " 'modelled': 604,\n",
              " 'competition': 605,\n",
              " 'sporting': 606,\n",
              " 'because': 607,\n",
              " 'india’s': 608,\n",
              " 'vast': 609,\n",
              " 'population': 610,\n",
              " 'sub': 611,\n",
              " 'continent': 612,\n",
              " 'marketplace': 613,\n",
              " 'how': 614,\n",
              " 'grows': 615,\n",
              " 'remain': 616,\n",
              " 'consumes': 617,\n",
              " 'itself': 618,\n",
              " 'overkill': 619,\n",
              " 'goes': 620,\n",
              " '21st': 621,\n",
              " 'tell': 622}"
            ]
          },
          "metadata": {},
          "execution_count": 7
        }
      ]
    },
    {
      "cell_type": "code",
      "source": [
        "input_sequences = []\n",
        "for sentence in cricket_history.split(\"\\n\"):                     # divide the dataset into sentences\n",
        "  # print(sentence)                                              # print the divided sentences\n",
        "  token_list = tokenizer.texts_to_sequences([sentence])[0]       # give tokens for the sentences\n",
        "  # print(token_list)                                            # print the sentences with indexes\n",
        "  for i in range(1, len(token_list)):                            # define the inputs of the Neural Network\n",
        "    sequence = token_list[:i+1]\n",
        "    input_sequences.append(sequence)"
      ],
      "metadata": {
        "id": "S6Qc6LLQANrJ"
      },
      "execution_count": null,
      "outputs": []
    },
    {
      "cell_type": "code",
      "source": [
        "input_sequences[:5]         # display the first 5 inputs (last index of each row shows the index of output word)"
      ],
      "metadata": {
        "id": "9VOR-B06AO0S",
        "colab": {
          "base_uri": "https://localhost:8080/"
        },
        "outputId": "0d1a7dd6-1f1c-4ae2-9b44-3e438f7ea640"
      },
      "execution_count": null,
      "outputs": [
        {
          "output_type": "execute_result",
          "data": {
            "text/plain": [
              "[[6, 93],\n",
              " [6, 93, 22],\n",
              " [6, 93, 22, 94],\n",
              " [6, 93, 22, 94, 178],\n",
              " [6, 93, 22, 94, 178, 4]]"
            ]
          },
          "metadata": {},
          "execution_count": 11
        }
      ]
    },
    {
      "cell_type": "code",
      "source": [
        "max_length = max([len(input_sequence) for input_sequence in input_sequences])    # find the maximum length of the sequences\n",
        "max_length                                                                       # display the maximum length"
      ],
      "metadata": {
        "id": "bG0Tdy1yAOw4",
        "colab": {
          "base_uri": "https://localhost:8080/"
        },
        "outputId": "a8a5d526-731e-4be7-f313-9454e3636937"
      },
      "execution_count": null,
      "outputs": [
        {
          "output_type": "execute_result",
          "data": {
            "text/plain": [
              "55"
            ]
          },
          "metadata": {},
          "execution_count": 12
        }
      ]
    },
    {
      "cell_type": "code",
      "source": [
        "input_sequences = np.array(tf.keras.preprocessing.sequence.pad_sequences(input_sequences, maxlen=max_length, padding='pre'))      # convert all the sequences to maximum length by adding the padding (every sequence should have 55 indexes, for that we add 0's at the front of the sequence)"
      ],
      "metadata": {
        "id": "NzeGZAmMAOuv"
      },
      "execution_count": null,
      "outputs": []
    },
    {
      "cell_type": "code",
      "source": [
        "input_sequences[:5]    # display the first 5 input sequences"
      ],
      "metadata": {
        "id": "Nn6HI2fTAOsi",
        "colab": {
          "base_uri": "https://localhost:8080/"
        },
        "outputId": "a897acf0-1b53-46cf-d0bf-559cc435a09f"
      },
      "execution_count": null,
      "outputs": [
        {
          "output_type": "execute_result",
          "data": {
            "text/plain": [
              "array([[  0,   0,   0,   0,   0,   0,   0,   0,   0,   0,   0,   0,   0,\n",
              "          0,   0,   0,   0,   0,   0,   0,   0,   0,   0,   0,   0,   0,\n",
              "          0,   0,   0,   0,   0,   0,   0,   0,   0,   0,   0,   0,   0,\n",
              "          0,   0,   0,   0,   0,   0,   0,   0,   0,   0,   0,   0,   0,\n",
              "          0,   6,  93],\n",
              "       [  0,   0,   0,   0,   0,   0,   0,   0,   0,   0,   0,   0,   0,\n",
              "          0,   0,   0,   0,   0,   0,   0,   0,   0,   0,   0,   0,   0,\n",
              "          0,   0,   0,   0,   0,   0,   0,   0,   0,   0,   0,   0,   0,\n",
              "          0,   0,   0,   0,   0,   0,   0,   0,   0,   0,   0,   0,   0,\n",
              "          6,  93,  22],\n",
              "       [  0,   0,   0,   0,   0,   0,   0,   0,   0,   0,   0,   0,   0,\n",
              "          0,   0,   0,   0,   0,   0,   0,   0,   0,   0,   0,   0,   0,\n",
              "          0,   0,   0,   0,   0,   0,   0,   0,   0,   0,   0,   0,   0,\n",
              "          0,   0,   0,   0,   0,   0,   0,   0,   0,   0,   0,   0,   6,\n",
              "         93,  22,  94],\n",
              "       [  0,   0,   0,   0,   0,   0,   0,   0,   0,   0,   0,   0,   0,\n",
              "          0,   0,   0,   0,   0,   0,   0,   0,   0,   0,   0,   0,   0,\n",
              "          0,   0,   0,   0,   0,   0,   0,   0,   0,   0,   0,   0,   0,\n",
              "          0,   0,   0,   0,   0,   0,   0,   0,   0,   0,   0,   6,  93,\n",
              "         22,  94, 178],\n",
              "       [  0,   0,   0,   0,   0,   0,   0,   0,   0,   0,   0,   0,   0,\n",
              "          0,   0,   0,   0,   0,   0,   0,   0,   0,   0,   0,   0,   0,\n",
              "          0,   0,   0,   0,   0,   0,   0,   0,   0,   0,   0,   0,   0,\n",
              "          0,   0,   0,   0,   0,   0,   0,   0,   0,   0,   6,  93,  22,\n",
              "         94, 178,   4]], dtype=int32)"
            ]
          },
          "metadata": {},
          "execution_count": 14
        }
      ]
    },
    {
      "cell_type": "code",
      "source": [
        "input_sequences[1]      # display only the first input sequence"
      ],
      "metadata": {
        "id": "VIzutf46ANpC",
        "colab": {
          "base_uri": "https://localhost:8080/"
        },
        "outputId": "ec929a7a-b24c-4091-a6e8-d9ff0e9d7d76"
      },
      "execution_count": null,
      "outputs": [
        {
          "output_type": "execute_result",
          "data": {
            "text/plain": [
              "array([ 0,  0,  0,  0,  0,  0,  0,  0,  0,  0,  0,  0,  0,  0,  0,  0,  0,\n",
              "        0,  0,  0,  0,  0,  0,  0,  0,  0,  0,  0,  0,  0,  0,  0,  0,  0,\n",
              "        0,  0,  0,  0,  0,  0,  0,  0,  0,  0,  0,  0,  0,  0,  0,  0,  0,\n",
              "        0,  6, 93, 22], dtype=int32)"
            ]
          },
          "metadata": {},
          "execution_count": 15
        }
      ]
    },
    {
      "cell_type": "code",
      "source": [
        "# split the input sequence into input part and output part\n",
        "x = input_sequences[:, :-1]      # define all the indexes except the last index as input (x)\n",
        "y = input_sequences[:, -1]       # define the last index as output/ label (y)"
      ],
      "metadata": {
        "id": "NRiRVG6hANZ8"
      },
      "execution_count": null,
      "outputs": []
    },
    {
      "cell_type": "code",
      "source": [
        "x[0]   # display the 0 element of the x (first input)\n",
        "\n",
        "# x[1]"
      ],
      "metadata": {
        "id": "PKt1DK6UANWZ",
        "colab": {
          "base_uri": "https://localhost:8080/"
        },
        "outputId": "1513d9e5-f0a4-47ae-fcd7-38c35223b94c"
      },
      "execution_count": null,
      "outputs": [
        {
          "output_type": "execute_result",
          "data": {
            "text/plain": [
              "array([0, 0, 0, 0, 0, 0, 0, 0, 0, 0, 0, 0, 0, 0, 0, 0, 0, 0, 0, 0, 0, 0,\n",
              "       0, 0, 0, 0, 0, 0, 0, 0, 0, 0, 0, 0, 0, 0, 0, 0, 0, 0, 0, 0, 0, 0,\n",
              "       0, 0, 0, 0, 0, 0, 0, 0, 0, 6], dtype=int32)"
            ]
          },
          "metadata": {},
          "execution_count": 17
        }
      ]
    },
    {
      "cell_type": "code",
      "source": [
        "y       # display the all y values (outputs/labels)"
      ],
      "metadata": {
        "id": "BRrp8-onANUJ",
        "colab": {
          "base_uri": "https://localhost:8080/"
        },
        "outputId": "c1f7d020-138e-4541-baac-cf99a0897a6a"
      },
      "execution_count": null,
      "outputs": [
        {
          "output_type": "execute_result",
          "data": {
            "text/plain": [
              "array([ 93,  22,  94, ...,  38, 177, 622], dtype=int32)"
            ]
          },
          "metadata": {},
          "execution_count": 18
        }
      ]
    },
    {
      "cell_type": "code",
      "source": [
        "tokenizer.word_index     # display all the words with indexes"
      ],
      "metadata": {
        "id": "UK9o17-YD-y_"
      },
      "execution_count": null,
      "outputs": []
    },
    {
      "cell_type": "code",
      "source": [
        "len(tokenizer.word_index)     # display the total no. of words"
      ],
      "metadata": {
        "colab": {
          "base_uri": "https://localhost:8080/"
        },
        "id": "8LThE-yFD-vb",
        "outputId": "e9579a21-9494-4c53-98ab-e6fb6c84b89f"
      },
      "execution_count": null,
      "outputs": [
        {
          "output_type": "execute_result",
          "data": {
            "text/plain": [
              "622"
            ]
          },
          "metadata": {},
          "execution_count": 19
        }
      ]
    },
    {
      "cell_type": "code",
      "source": [
        "num_classes = len(tokenizer.word_index) + 1     # define the no. of classes (add 1 to no. of words bcz indexes starts with 0)\n",
        "num_classes                                     # display the no. of classes"
      ],
      "metadata": {
        "id": "XuzGK7vLD-Zj",
        "colab": {
          "base_uri": "https://localhost:8080/"
        },
        "outputId": "dc5494ac-38d6-46bb-967c-5aef1d189bcb"
      },
      "execution_count": null,
      "outputs": [
        {
          "output_type": "execute_result",
          "data": {
            "text/plain": [
              "623"
            ]
          },
          "metadata": {},
          "execution_count": 20
        }
      ]
    },
    {
      "cell_type": "code",
      "source": [
        "y = np.array(tf.keras.utils.to_categorical(y, num_classes=num_classes))  # one hot encoded the y values"
      ],
      "metadata": {
        "id": "vQqGHvt5D-WR"
      },
      "execution_count": null,
      "outputs": []
    },
    {
      "cell_type": "code",
      "source": [
        "y[0]        # display the 0 element of the y (in here if index value is 93, only the (93+1) position have the 1 as value, all other positions have 0)\n",
        "\n",
        "# y[1]"
      ],
      "metadata": {
        "id": "GsGt2Ag6D-UF",
        "colab": {
          "base_uri": "https://localhost:8080/"
        },
        "outputId": "5a0ef27b-4f58-4e77-c03a-3f4cca39118e"
      },
      "execution_count": null,
      "outputs": [
        {
          "output_type": "execute_result",
          "data": {
            "text/plain": [
              "array([0., 0., 0., 0., 0., 0., 0., 0., 0., 0., 0., 0., 0., 0., 0., 0., 0.,\n",
              "       0., 0., 0., 0., 0., 0., 0., 0., 0., 0., 0., 0., 0., 0., 0., 0., 0.,\n",
              "       0., 0., 0., 0., 0., 0., 0., 0., 0., 0., 0., 0., 0., 0., 0., 0., 0.,\n",
              "       0., 0., 0., 0., 0., 0., 0., 0., 0., 0., 0., 0., 0., 0., 0., 0., 0.,\n",
              "       0., 0., 0., 0., 0., 0., 0., 0., 0., 0., 0., 0., 0., 0., 0., 0., 0.,\n",
              "       0., 0., 0., 0., 0., 0., 0., 0., 1., 0., 0., 0., 0., 0., 0., 0., 0.,\n",
              "       0., 0., 0., 0., 0., 0., 0., 0., 0., 0., 0., 0., 0., 0., 0., 0., 0.,\n",
              "       0., 0., 0., 0., 0., 0., 0., 0., 0., 0., 0., 0., 0., 0., 0., 0., 0.,\n",
              "       0., 0., 0., 0., 0., 0., 0., 0., 0., 0., 0., 0., 0., 0., 0., 0., 0.,\n",
              "       0., 0., 0., 0., 0., 0., 0., 0., 0., 0., 0., 0., 0., 0., 0., 0., 0.,\n",
              "       0., 0., 0., 0., 0., 0., 0., 0., 0., 0., 0., 0., 0., 0., 0., 0., 0.,\n",
              "       0., 0., 0., 0., 0., 0., 0., 0., 0., 0., 0., 0., 0., 0., 0., 0., 0.,\n",
              "       0., 0., 0., 0., 0., 0., 0., 0., 0., 0., 0., 0., 0., 0., 0., 0., 0.,\n",
              "       0., 0., 0., 0., 0., 0., 0., 0., 0., 0., 0., 0., 0., 0., 0., 0., 0.,\n",
              "       0., 0., 0., 0., 0., 0., 0., 0., 0., 0., 0., 0., 0., 0., 0., 0., 0.,\n",
              "       0., 0., 0., 0., 0., 0., 0., 0., 0., 0., 0., 0., 0., 0., 0., 0., 0.,\n",
              "       0., 0., 0., 0., 0., 0., 0., 0., 0., 0., 0., 0., 0., 0., 0., 0., 0.,\n",
              "       0., 0., 0., 0., 0., 0., 0., 0., 0., 0., 0., 0., 0., 0., 0., 0., 0.,\n",
              "       0., 0., 0., 0., 0., 0., 0., 0., 0., 0., 0., 0., 0., 0., 0., 0., 0.,\n",
              "       0., 0., 0., 0., 0., 0., 0., 0., 0., 0., 0., 0., 0., 0., 0., 0., 0.,\n",
              "       0., 0., 0., 0., 0., 0., 0., 0., 0., 0., 0., 0., 0., 0., 0., 0., 0.,\n",
              "       0., 0., 0., 0., 0., 0., 0., 0., 0., 0., 0., 0., 0., 0., 0., 0., 0.,\n",
              "       0., 0., 0., 0., 0., 0., 0., 0., 0., 0., 0., 0., 0., 0., 0., 0., 0.,\n",
              "       0., 0., 0., 0., 0., 0., 0., 0., 0., 0., 0., 0., 0., 0., 0., 0., 0.,\n",
              "       0., 0., 0., 0., 0., 0., 0., 0., 0., 0., 0., 0., 0., 0., 0., 0., 0.,\n",
              "       0., 0., 0., 0., 0., 0., 0., 0., 0., 0., 0., 0., 0., 0., 0., 0., 0.,\n",
              "       0., 0., 0., 0., 0., 0., 0., 0., 0., 0., 0., 0., 0., 0., 0., 0., 0.,\n",
              "       0., 0., 0., 0., 0., 0., 0., 0., 0., 0., 0., 0., 0., 0., 0., 0., 0.,\n",
              "       0., 0., 0., 0., 0., 0., 0., 0., 0., 0., 0., 0., 0., 0., 0., 0., 0.,\n",
              "       0., 0., 0., 0., 0., 0., 0., 0., 0., 0., 0., 0., 0., 0., 0., 0., 0.,\n",
              "       0., 0., 0., 0., 0., 0., 0., 0., 0., 0., 0., 0., 0., 0., 0., 0., 0.,\n",
              "       0., 0., 0., 0., 0., 0., 0., 0., 0., 0., 0., 0., 0., 0., 0., 0., 0.,\n",
              "       0., 0., 0., 0., 0., 0., 0., 0., 0., 0., 0., 0., 0., 0., 0., 0., 0.,\n",
              "       0., 0., 0., 0., 0., 0., 0., 0., 0., 0., 0., 0., 0., 0., 0., 0., 0.,\n",
              "       0., 0., 0., 0., 0., 0., 0., 0., 0., 0., 0., 0., 0., 0., 0., 0., 0.,\n",
              "       0., 0., 0., 0., 0., 0., 0., 0., 0., 0., 0., 0., 0., 0., 0., 0., 0.,\n",
              "       0., 0., 0., 0., 0., 0., 0., 0., 0., 0., 0.], dtype=float32)"
            ]
          },
          "metadata": {},
          "execution_count": 22
        }
      ]
    },
    {
      "cell_type": "code",
      "source": [
        "# create the model\n",
        "model = tf.keras.models.Sequential()                                                # use sequential API\n",
        "model.add(tf.keras.layers.Embedding(num_classes, 80, input_length=max_length-1))    # add an embedding layer (create input values to 80 values) (input values as 622)\n",
        "model.add(tf.keras.layers.LSTM(100))                                                # add a LSTM layer with 100 units\n",
        "model.add(tf.keras.layers.Dense(num_classes, activation='softmax'))                 # define the output layer with 623 neurons and softmax activation function (bcz this is a multi class classification problem)"
      ],
      "metadata": {
        "id": "hUIObNi5D-R8"
      },
      "execution_count": null,
      "outputs": []
    },
    {
      "cell_type": "code",
      "source": [
        "model.summary()        # display summary of the model"
      ],
      "metadata": {
        "id": "mrPKyrsPD-PU",
        "colab": {
          "base_uri": "https://localhost:8080/"
        },
        "outputId": "6cc5c326-4061-46e7-b66e-007bb40a3555"
      },
      "execution_count": null,
      "outputs": [
        {
          "output_type": "stream",
          "name": "stdout",
          "text": [
            "Model: \"sequential\"\n",
            "_________________________________________________________________\n",
            " Layer (type)                Output Shape              Param #   \n",
            "=================================================================\n",
            " embedding (Embedding)       (None, 54, 80)            49840     \n",
            "                                                                 \n",
            " lstm (LSTM)                 (None, 100)               72400     \n",
            "                                                                 \n",
            " dense (Dense)               (None, 623)               62923     \n",
            "                                                                 \n",
            "=================================================================\n",
            "Total params: 185163 (723.29 KB)\n",
            "Trainable params: 185163 (723.29 KB)\n",
            "Non-trainable params: 0 (0.00 Byte)\n",
            "_________________________________________________________________\n"
          ]
        }
      ]
    },
    {
      "cell_type": "code",
      "source": [
        "# compile the model\n",
        "model.compile(loss='categorical_crossentropy',     # use categorical cross entropy as loss function\n",
        "              optimizer='adam',                    # use adam optimizer\n",
        "              metrics=['accuracy'])                # use accuracy to measure the model"
      ],
      "metadata": {
        "id": "-MqSe4YMD-NN"
      },
      "execution_count": null,
      "outputs": []
    },
    {
      "cell_type": "code",
      "source": [
        "# train the model\n",
        "history = model.fit(x, y, epochs=100)          # train the model with 100 epochs by giving x (inputs) and y (outputs) values"
      ],
      "metadata": {
        "id": "H_MRDJ--F9j4",
        "colab": {
          "base_uri": "https://localhost:8080/"
        },
        "outputId": "b2d4929a-b5c5-4711-b7f2-8db033c162c7"
      },
      "execution_count": null,
      "outputs": [
        {
          "output_type": "stream",
          "name": "stdout",
          "text": [
            "Epoch 1/100\n",
            "47/47 [==============================] - 5s 43ms/step - loss: 6.1300 - accuracy: 0.0816\n",
            "Epoch 2/100\n",
            "47/47 [==============================] - 2s 44ms/step - loss: 5.6359 - accuracy: 0.0911\n",
            "Epoch 3/100\n",
            "47/47 [==============================] - 2s 43ms/step - loss: 5.5567 - accuracy: 0.0911\n",
            "Epoch 4/100\n",
            "47/47 [==============================] - 2s 43ms/step - loss: 5.5060 - accuracy: 0.0911\n",
            "Epoch 5/100\n",
            "47/47 [==============================] - 3s 59ms/step - loss: 5.4340 - accuracy: 0.0911\n",
            "Epoch 6/100\n",
            "47/47 [==============================] - 3s 57ms/step - loss: 5.3543 - accuracy: 0.0911\n",
            "Epoch 7/100\n",
            "47/47 [==============================] - 2s 43ms/step - loss: 5.2644 - accuracy: 0.1005\n",
            "Epoch 8/100\n",
            "47/47 [==============================] - 2s 43ms/step - loss: 5.1589 - accuracy: 0.1221\n",
            "Epoch 9/100\n",
            "47/47 [==============================] - 2s 43ms/step - loss: 5.0436 - accuracy: 0.1255\n",
            "Epoch 10/100\n",
            "47/47 [==============================] - 2s 43ms/step - loss: 4.9274 - accuracy: 0.1350\n",
            "Epoch 11/100\n",
            "47/47 [==============================] - 3s 59ms/step - loss: 4.8189 - accuracy: 0.1390\n",
            "Epoch 12/100\n",
            "47/47 [==============================] - 3s 55ms/step - loss: 4.7040 - accuracy: 0.1633\n",
            "Epoch 13/100\n",
            "47/47 [==============================] - 2s 43ms/step - loss: 4.6041 - accuracy: 0.1761\n",
            "Epoch 14/100\n",
            "47/47 [==============================] - 2s 44ms/step - loss: 4.5049 - accuracy: 0.1829\n",
            "Epoch 15/100\n",
            "47/47 [==============================] - 2s 44ms/step - loss: 4.4057 - accuracy: 0.2018\n",
            "Epoch 16/100\n",
            "47/47 [==============================] - 2s 44ms/step - loss: 4.3015 - accuracy: 0.2085\n",
            "Epoch 17/100\n",
            "47/47 [==============================] - 3s 66ms/step - loss: 4.2077 - accuracy: 0.2132\n",
            "Epoch 18/100\n",
            "47/47 [==============================] - 2s 46ms/step - loss: 4.1097 - accuracy: 0.2220\n",
            "Epoch 19/100\n",
            "47/47 [==============================] - 2s 43ms/step - loss: 4.0090 - accuracy: 0.2281\n",
            "Epoch 20/100\n",
            "47/47 [==============================] - 2s 43ms/step - loss: 3.9091 - accuracy: 0.2341\n",
            "Epoch 21/100\n",
            "47/47 [==============================] - 2s 44ms/step - loss: 3.8076 - accuracy: 0.2389\n",
            "Epoch 22/100\n",
            "47/47 [==============================] - 2s 43ms/step - loss: 3.7079 - accuracy: 0.2476\n",
            "Epoch 23/100\n",
            "47/47 [==============================] - 3s 71ms/step - loss: 3.6095 - accuracy: 0.2584\n",
            "Epoch 24/100\n",
            "47/47 [==============================] - 2s 43ms/step - loss: 3.5083 - accuracy: 0.2706\n",
            "Epoch 25/100\n",
            "47/47 [==============================] - 2s 46ms/step - loss: 3.4072 - accuracy: 0.2942\n",
            "Epoch 26/100\n",
            "47/47 [==============================] - 2s 46ms/step - loss: 3.3088 - accuracy: 0.3063\n",
            "Epoch 27/100\n",
            "47/47 [==============================] - 2s 52ms/step - loss: 3.2029 - accuracy: 0.3246\n",
            "Epoch 28/100\n",
            "47/47 [==============================] - 4s 87ms/step - loss: 3.1058 - accuracy: 0.3482\n",
            "Epoch 29/100\n",
            "47/47 [==============================] - 3s 71ms/step - loss: 3.0127 - accuracy: 0.3596\n",
            "Epoch 30/100\n",
            "47/47 [==============================] - 4s 79ms/step - loss: 2.9060 - accuracy: 0.3900\n",
            "Epoch 31/100\n",
            "47/47 [==============================] - 2s 49ms/step - loss: 2.8079 - accuracy: 0.4163\n",
            "Epoch 32/100\n",
            "47/47 [==============================] - 3s 64ms/step - loss: 2.7101 - accuracy: 0.4413\n",
            "Epoch 33/100\n",
            "47/47 [==============================] - 3s 61ms/step - loss: 2.6165 - accuracy: 0.4703\n",
            "Epoch 34/100\n",
            "47/47 [==============================] - 2s 50ms/step - loss: 2.5161 - accuracy: 0.4906\n",
            "Epoch 35/100\n",
            "47/47 [==============================] - 2s 48ms/step - loss: 2.4274 - accuracy: 0.5196\n",
            "Epoch 36/100\n",
            "47/47 [==============================] - 2s 49ms/step - loss: 2.3339 - accuracy: 0.5459\n",
            "Epoch 37/100\n",
            "47/47 [==============================] - 2s 44ms/step - loss: 2.2405 - accuracy: 0.5729\n",
            "Epoch 38/100\n",
            "47/47 [==============================] - 3s 71ms/step - loss: 2.1561 - accuracy: 0.5924\n",
            "Epoch 39/100\n",
            "47/47 [==============================] - 2s 48ms/step - loss: 2.0652 - accuracy: 0.6262\n",
            "Epoch 40/100\n",
            "47/47 [==============================] - 2s 44ms/step - loss: 1.9788 - accuracy: 0.6491\n",
            "Epoch 41/100\n",
            "47/47 [==============================] - 2s 43ms/step - loss: 1.8974 - accuracy: 0.6680\n",
            "Epoch 42/100\n",
            "47/47 [==============================] - 2s 49ms/step - loss: 1.8174 - accuracy: 0.6883\n",
            "Epoch 43/100\n",
            "47/47 [==============================] - 3s 74ms/step - loss: 1.7433 - accuracy: 0.7105\n",
            "Epoch 44/100\n",
            "47/47 [==============================] - 3s 60ms/step - loss: 1.6640 - accuracy: 0.7328\n",
            "Epoch 45/100\n",
            "47/47 [==============================] - 2s 48ms/step - loss: 1.5909 - accuracy: 0.7409\n",
            "Epoch 46/100\n",
            "47/47 [==============================] - 2s 51ms/step - loss: 1.5258 - accuracy: 0.7564\n",
            "Epoch 47/100\n",
            "47/47 [==============================] - 2s 44ms/step - loss: 1.4613 - accuracy: 0.7726\n",
            "Epoch 48/100\n",
            "47/47 [==============================] - 2s 47ms/step - loss: 1.3946 - accuracy: 0.7901\n",
            "Epoch 49/100\n",
            "47/47 [==============================] - 3s 69ms/step - loss: 1.3346 - accuracy: 0.7989\n",
            "Epoch 50/100\n",
            "47/47 [==============================] - 2s 44ms/step - loss: 1.2760 - accuracy: 0.8138\n",
            "Epoch 51/100\n",
            "47/47 [==============================] - 2s 45ms/step - loss: 1.2210 - accuracy: 0.8171\n",
            "Epoch 52/100\n",
            "47/47 [==============================] - 2s 44ms/step - loss: 1.1687 - accuracy: 0.8327\n",
            "Epoch 53/100\n",
            "47/47 [==============================] - 2s 44ms/step - loss: 1.1184 - accuracy: 0.8327\n",
            "Epoch 54/100\n",
            "47/47 [==============================] - 4s 79ms/step - loss: 1.0703 - accuracy: 0.8482\n",
            "Epoch 55/100\n",
            "47/47 [==============================] - 3s 68ms/step - loss: 1.0233 - accuracy: 0.8623\n",
            "Epoch 56/100\n",
            "47/47 [==============================] - 2s 43ms/step - loss: 0.9791 - accuracy: 0.8630\n",
            "Epoch 57/100\n",
            "47/47 [==============================] - 2s 44ms/step - loss: 0.9388 - accuracy: 0.8752\n",
            "Epoch 58/100\n",
            "47/47 [==============================] - 2s 48ms/step - loss: 0.8987 - accuracy: 0.8785\n",
            "Epoch 59/100\n",
            "47/47 [==============================] - 2s 48ms/step - loss: 0.8620 - accuracy: 0.8826\n",
            "Epoch 60/100\n",
            "47/47 [==============================] - 3s 72ms/step - loss: 0.8253 - accuracy: 0.8914\n",
            "Epoch 61/100\n",
            "47/47 [==============================] - 2s 48ms/step - loss: 0.7917 - accuracy: 0.8981\n",
            "Epoch 62/100\n",
            "47/47 [==============================] - 2s 47ms/step - loss: 0.7572 - accuracy: 0.8995\n",
            "Epoch 63/100\n",
            "47/47 [==============================] - 2s 44ms/step - loss: 0.7254 - accuracy: 0.9123\n",
            "Epoch 64/100\n",
            "47/47 [==============================] - 2s 46ms/step - loss: 0.6953 - accuracy: 0.9116\n",
            "Epoch 65/100\n",
            "47/47 [==============================] - 3s 60ms/step - loss: 0.6694 - accuracy: 0.9211\n",
            "Epoch 66/100\n",
            "47/47 [==============================] - 3s 53ms/step - loss: 0.6424 - accuracy: 0.9197\n",
            "Epoch 67/100\n",
            "47/47 [==============================] - 2s 43ms/step - loss: 0.6164 - accuracy: 0.9251\n",
            "Epoch 68/100\n",
            "47/47 [==============================] - 2s 43ms/step - loss: 0.5908 - accuracy: 0.9312\n",
            "Epoch 69/100\n",
            "47/47 [==============================] - 2s 43ms/step - loss: 0.5675 - accuracy: 0.9379\n",
            "Epoch 70/100\n",
            "47/47 [==============================] - 2s 43ms/step - loss: 0.5452 - accuracy: 0.9386\n",
            "Epoch 71/100\n",
            "47/47 [==============================] - 3s 63ms/step - loss: 0.5234 - accuracy: 0.9413\n",
            "Epoch 72/100\n",
            "47/47 [==============================] - 2s 52ms/step - loss: 0.5033 - accuracy: 0.9447\n",
            "Epoch 73/100\n",
            "47/47 [==============================] - 2s 43ms/step - loss: 0.4822 - accuracy: 0.9487\n",
            "Epoch 74/100\n",
            "47/47 [==============================] - 2s 43ms/step - loss: 0.4638 - accuracy: 0.9501\n",
            "Epoch 75/100\n",
            "47/47 [==============================] - 2s 44ms/step - loss: 0.4459 - accuracy: 0.9575\n",
            "Epoch 76/100\n",
            "47/47 [==============================] - 2s 52ms/step - loss: 0.4285 - accuracy: 0.9561\n",
            "Epoch 77/100\n",
            "47/47 [==============================] - 4s 77ms/step - loss: 0.4104 - accuracy: 0.9629\n",
            "Epoch 78/100\n",
            "47/47 [==============================] - 2s 43ms/step - loss: 0.3971 - accuracy: 0.9642\n",
            "Epoch 79/100\n",
            "47/47 [==============================] - 2s 44ms/step - loss: 0.3811 - accuracy: 0.9642\n",
            "Epoch 80/100\n",
            "47/47 [==============================] - 2s 43ms/step - loss: 0.3667 - accuracy: 0.9669\n",
            "Epoch 81/100\n",
            "47/47 [==============================] - 2s 44ms/step - loss: 0.3529 - accuracy: 0.9669\n",
            "Epoch 82/100\n",
            "47/47 [==============================] - 2s 46ms/step - loss: 0.3411 - accuracy: 0.9710\n",
            "Epoch 83/100\n",
            "47/47 [==============================] - 3s 67ms/step - loss: 0.3279 - accuracy: 0.9703\n",
            "Epoch 84/100\n",
            "47/47 [==============================] - 2s 44ms/step - loss: 0.3160 - accuracy: 0.9723\n",
            "Epoch 85/100\n",
            "47/47 [==============================] - 2s 43ms/step - loss: 0.3049 - accuracy: 0.9750\n",
            "Epoch 86/100\n",
            "47/47 [==============================] - 2s 44ms/step - loss: 0.2952 - accuracy: 0.9737\n",
            "Epoch 87/100\n",
            "47/47 [==============================] - 2s 43ms/step - loss: 0.2837 - accuracy: 0.9757\n",
            "Epoch 88/100\n",
            "47/47 [==============================] - 2s 51ms/step - loss: 0.2731 - accuracy: 0.9771\n",
            "Epoch 89/100\n",
            "47/47 [==============================] - 3s 66ms/step - loss: 0.2641 - accuracy: 0.9750\n",
            "Epoch 90/100\n",
            "47/47 [==============================] - 2s 50ms/step - loss: 0.2555 - accuracy: 0.9784\n",
            "Epoch 91/100\n",
            "47/47 [==============================] - 3s 60ms/step - loss: 0.2454 - accuracy: 0.9757\n",
            "Epoch 92/100\n",
            "47/47 [==============================] - 2s 52ms/step - loss: 0.2377 - accuracy: 0.9764\n",
            "Epoch 93/100\n",
            "47/47 [==============================] - 3s 70ms/step - loss: 0.2301 - accuracy: 0.9764\n",
            "Epoch 94/100\n",
            "47/47 [==============================] - 3s 69ms/step - loss: 0.2221 - accuracy: 0.9777\n",
            "Epoch 95/100\n",
            "47/47 [==============================] - 2s 49ms/step - loss: 0.2163 - accuracy: 0.9757\n",
            "Epoch 96/100\n",
            "47/47 [==============================] - 2s 51ms/step - loss: 0.2083 - accuracy: 0.9784\n",
            "Epoch 97/100\n",
            "47/47 [==============================] - 2s 42ms/step - loss: 0.2023 - accuracy: 0.9771\n",
            "Epoch 98/100\n",
            "47/47 [==============================] - 2s 49ms/step - loss: 0.1958 - accuracy: 0.9777\n",
            "Epoch 99/100\n",
            "47/47 [==============================] - 3s 65ms/step - loss: 0.1906 - accuracy: 0.9757\n",
            "Epoch 100/100\n",
            "47/47 [==============================] - 2s 44ms/step - loss: 0.1845 - accuracy: 0.9798\n"
          ]
        }
      ]
    },
    {
      "cell_type": "markdown",
      "source": [
        "# **Predict using model**"
      ],
      "metadata": {
        "id": "g-IDqdF_ATEC"
      }
    },
    {
      "cell_type": "code",
      "source": [
        "input_text = 'cricket begin'   # define the 'cricket begin' as the input"
      ],
      "metadata": {
        "id": "K-qFPSgPF9Vb"
      },
      "execution_count": null,
      "outputs": []
    },
    {
      "cell_type": "code",
      "source": [
        "token_list = tokenizer.texts_to_sequences([input_text])[0]   # convert the input into numerical values\n",
        "print(token_list)                                            # print the numerical values"
      ],
      "metadata": {
        "id": "aHzFl9l6G6K0",
        "colab": {
          "base_uri": "https://localhost:8080/"
        },
        "outputId": "ca03af7b-0c73-4a37-df1f-3f09829441e4"
      },
      "execution_count": null,
      "outputs": [
        {
          "output_type": "stream",
          "name": "stdout",
          "text": [
            "[6, 408]\n"
          ]
        }
      ]
    },
    {
      "cell_type": "code",
      "source": [
        "token_list = tf.keras.preprocessing.sequence.pad_sequences([token_list], maxlen=max_length-1, padding='pre')    # convert all the sequences to maximum length by adding the padding (every sequence should have 55 indexes, for that we add 0's at the front of the sequence)\n",
        "print(token_list)                                                                                               # print the coverted sequence"
      ],
      "metadata": {
        "id": "zi8Q7gSfF-Zb",
        "colab": {
          "base_uri": "https://localhost:8080/"
        },
        "outputId": "45ce9812-2cac-403f-a5f4-0021d8cf1f89"
      },
      "execution_count": null,
      "outputs": [
        {
          "output_type": "stream",
          "name": "stdout",
          "text": [
            "[[  0   0   0   0   0   0   0   0   0   0   0   0   0   0   0   0   0   0\n",
            "    0   0   0   0   0   0   0   0   0   0   0   0   0   0   0   0   0   0\n",
            "    0   0   0   0   0   0   0   0   0   0   0   0   0   0   0   0   6 408]]\n"
          ]
        }
      ]
    },
    {
      "cell_type": "code",
      "source": [
        "predicted = np.argmax(model.predict(token_list), axis=-1)    # predict the next word (label) by giving the token_list as input (use argmax bcz we have multi classes)\n",
        "print(predicted)                                             # print the token of output word"
      ],
      "metadata": {
        "id": "rzSQkqxLF-KS",
        "colab": {
          "base_uri": "https://localhost:8080/"
        },
        "outputId": "b1a4d2f4-57ca-4629-8528-376543f951c8"
      },
      "execution_count": null,
      "outputs": [
        {
          "output_type": "stream",
          "name": "stdout",
          "text": [
            "1/1 [==============================] - 0s 477ms/step\n",
            "[1]\n"
          ]
        }
      ]
    },
    {
      "cell_type": "code",
      "source": [
        "for word, index in tokenizer.word_index.items():      # get the word of the given index\n",
        "  if index == predicted:                              # when token index equals to predicted index we get the word\n",
        "    print(word)                                       # print the word"
      ],
      "metadata": {
        "id": "uZAAnELjF9Ry",
        "colab": {
          "base_uri": "https://localhost:8080/"
        },
        "outputId": "37a84db8-1af5-453e-9085-79a4236dacd2"
      },
      "execution_count": null,
      "outputs": [
        {
          "output_type": "stream",
          "name": "stdout",
          "text": [
            "the\n"
          ]
        }
      ]
    },
    {
      "cell_type": "code",
      "source": [
        "input_text = \"cricket begin\"   # predict a whole sentence by repeating this process\n",
        "for i in range(6):             # predict 6 words\n",
        "  token_list = tokenizer.texts_to_sequences([input_text])[0]\n",
        "  token_list = tf.keras.preprocessing.sequence.pad_sequences([token_list], maxlen=max_length-1, padding='pre')\n",
        "  predicted = np.argmax(model.predict(token_list), axis=-1)\n",
        "  output_word = \"\"\n",
        "  for word, index in tokenizer.word_index.items():\n",
        "    if index == predicted:\n",
        "      output_word = word\n",
        "      break\n",
        "  input_text += \" \" + output_word\n",
        "\n",
        "print(input_text)"
      ],
      "metadata": {
        "id": "qxU5HefwF9PL",
        "colab": {
          "base_uri": "https://localhost:8080/"
        },
        "outputId": "32c86844-9799-4022-feb3-0c24f42c8470"
      },
      "execution_count": null,
      "outputs": [
        {
          "output_type": "stream",
          "name": "stdout",
          "text": [
            "1/1 [==============================] - 0s 27ms/step\n",
            "1/1 [==============================] - 0s 29ms/step\n",
            "1/1 [==============================] - 0s 28ms/step\n",
            "1/1 [==============================] - 0s 27ms/step\n",
            "1/1 [==============================] - 0s 28ms/step\n",
            "1/1 [==============================] - 0s 29ms/step\n",
            "cricket begin the west indies and india by\n"
          ]
        }
      ]
    }
  ]
}